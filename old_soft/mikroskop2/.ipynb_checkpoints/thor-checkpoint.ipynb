{
 "cells": [
  {
   "cell_type": "markdown",
   "id": "a2e3523d",
   "metadata": {},
   "source": [
    "# M30"
   ]
  },
  {
   "cell_type": "code",
   "execution_count": 7,
   "id": "5f92bfd0",
   "metadata": {},
   "outputs": [],
   "source": [
    "\"\"\"\n",
    "An example that uses the .NET Kinesis Libraries to connect to an M30XY stage\n",
    "\n",
    "This is also applicable to the M30X stage.\n",
    "\"\"\"\n",
    "import os\n",
    "import time\n",
    "import sys\n",
    "import clr\n",
    "import numpy as np\n",
    "\n",
    "# Add References to .NET libraries\n",
    "clr.AddReference(\"C:\\\\Program Files\\\\Thorlabs\\\\Kinesis\\\\Thorlabs.MotionControl.DeviceManagerCLI.dll\")\n",
    "clr.AddReference(\"C:\\\\Program Files\\\\Thorlabs\\\\Kinesis\\\\Thorlabs.MotionControl.GenericMotorCLI.dll\")\n",
    "clr.AddReference(\"C:\\\\Program Files\\\\Thorlabs\\\\Kinesis\\\\Thorlabs.MotionControl.Benchtop.DCServoCLI.dll.\")\n",
    "clr.AddReference(\"C:\\\\Program Files\\\\Thorlabs\\\\Kinesis\\\\Thorlabs.MotionControl.IntegratedStepperMotorsCLI.dll.\")\n",
    "clr.AddReference(\"C:\\\\Program Files\\\\Thorlabs\\\\Kinesis\\\\Thorlabs.MotionControl.IntegratedStepperMotorsUI.dll\")\n",
    "\n",
    "\n",
    "from Thorlabs.MotionControl.DeviceManagerCLI import *\n",
    "from Thorlabs.MotionControl.GenericMotorCLI import *\n",
    "from Thorlabs.MotionControl.Benchtop.DCServoCLI import *\n",
    "from Thorlabs.MotionControl.IntegratedStepperMotorsUI import *\n",
    "from Thorlabs.MotionControl.IntegratedStepperMotorsCLI import *\n",
    "from System import Decimal  # Required for real units"
   ]
  },
  {
   "cell_type": "code",
   "execution_count": null,
   "id": "ec980766",
   "metadata": {},
   "outputs": [],
   "source": []
  },
  {
   "cell_type": "code",
   "execution_count": null,
   "id": "447d1c54",
   "metadata": {},
   "outputs": [],
   "source": []
  },
  {
   "cell_type": "code",
   "execution_count": null,
   "id": "a002720b",
   "metadata": {},
   "outputs": [],
   "source": []
  },
  {
   "cell_type": "code",
   "execution_count": null,
   "id": "5c096907",
   "metadata": {},
   "outputs": [],
   "source": []
  },
  {
   "cell_type": "code",
   "execution_count": null,
   "id": "102b2cf5",
   "metadata": {},
   "outputs": [],
   "source": []
  },
  {
   "cell_type": "markdown",
   "id": "78606255",
   "metadata": {},
   "source": [
    "# LabJack"
   ]
  },
  {
   "cell_type": "code",
   "execution_count": 18,
   "id": "0f372be7",
   "metadata": {},
   "outputs": [],
   "source": [
    "\"\"\"\n",
    "An example that uses the .NET Kinesis Libraries to connect to an M30XY stage\n",
    "\n",
    "This is also applicable to the M30X stage.\n",
    "\"\"\"\n",
    "import os\n",
    "import time\n",
    "import sys\n",
    "import clr\n",
    "import numpy as np\n",
    "\n",
    "# Add References to .NET libraries\n",
    "clr.AddReference(\"C:\\\\Program Files\\\\Thorlabs\\\\Kinesis\\\\Thorlabs.MotionControl.DeviceManagerCLI.dll\")\n",
    "clr.AddReference(\"C:\\\\Program Files\\\\Thorlabs\\\\Kinesis\\\\Thorlabs.MotionControl.GenericMotorCLI.dll\")\n",
    "clr.AddReference(\"C:\\\\Program Files\\\\Thorlabs\\\\Kinesis\\\\Thorlabs.MotionControl.Benchtop.DCServoCLI.dll.\")\n",
    "clr.AddReference(\"C:\\\\Program Files\\\\Thorlabs\\\\Kinesis\\\\Thorlabs.MotionControl.IntegratedStepperMotorsCLI.dll.\")\n",
    "clr.AddReference(\"C:\\\\Program Files\\\\Thorlabs\\\\Kinesis\\\\Thorlabs.MotionControl.IntegratedStepperMotorsUI.dll\")\n",
    "\n",
    "\n",
    "from Thorlabs.MotionControl.DeviceManagerCLI import *\n",
    "from Thorlabs.MotionControl.GenericMotorCLI import *\n",
    "from Thorlabs.MotionControl.Benchtop.DCServoCLI import *\n",
    "from Thorlabs.MotionControl.IntegratedStepperMotorsUI import *\n",
    "from Thorlabs.MotionControl.IntegratedStepperMotorsCLI import *\n",
    "from System import Decimal  # Required for real units"
   ]
  },
  {
   "cell_type": "code",
   "execution_count": 19,
   "id": "a7ca6b4a",
   "metadata": {},
   "outputs": [],
   "source": [
    "clr.AddReference(\"C:\\\\Program Files\\\\Thorlabs\\\\Kinesis\\\\Thorlabs.MotionControl.IntegratedStepperMotorsCLI.dll.\")\n",
    "clr.AddReference(\"C:\\\\Program Files\\\\Thorlabs\\\\Kinesis\\\\Thorlabs.MotionControl.IntegratedStepperMotorsUI.dll\")\n",
    "from Thorlabs.MotionControl.IntegratedStepperMotorsUI import *\n",
    "from Thorlabs.MotionControl.IntegratedStepperMotorsCLI import *"
   ]
  },
  {
   "cell_type": "code",
   "execution_count": 20,
   "id": "0969909d",
   "metadata": {},
   "outputs": [],
   "source": [
    "DeviceManagerCLI.BuildDeviceList()"
   ]
  },
  {
   "cell_type": "code",
   "execution_count": 21,
   "id": "871e8df1",
   "metadata": {},
   "outputs": [],
   "source": [
    "# labjack\n",
    "serial_no = \"49337314\"\n",
    "\n",
    "# flipper\n",
    "# serial_no = \"37004961\"\n",
    "\n",
    "# m30\n",
    "# serial_no = \"101334424\""
   ]
  },
  {
   "cell_type": "code",
   "execution_count": 22,
   "id": "13f45d64",
   "metadata": {},
   "outputs": [
    {
     "name": "stdout",
     "output_type": "stream",
     "text": [
      "APT Stepper Motor Controller\n"
     ]
    }
   ],
   "source": [
    "# serial_no = \"37004961\"  # Replace this line with your device's serial number\n",
    "\n",
    "# device = BenchtopDCServo.CreateBenchtopDCServo(serial_no)\n",
    "device = LabJack.CreateLabJack(serial_no)\n",
    "\n",
    "# Connect, begin polling, and enable\n",
    "device.Connect(serial_no)\n",
    "time.sleep(0.25)  # wait statements are important to allow settings to be sent to the device\n",
    "\n",
    "# Get Device Information and display description\n",
    "device_info = device.GetDeviceInfo()\n",
    "print(device_info.Description)"
   ]
  },
  {
   "cell_type": "code",
   "execution_count": 23,
   "id": "358b6299",
   "metadata": {},
   "outputs": [],
   "source": [
    "device.StartPolling(250)"
   ]
  },
  {
   "cell_type": "code",
   "execution_count": 24,
   "id": "1150e16b",
   "metadata": {},
   "outputs": [],
   "source": [
    "device.EnableDevice()"
   ]
  },
  {
   "cell_type": "code",
   "execution_count": 25,
   "id": "0b2faf4d",
   "metadata": {},
   "outputs": [],
   "source": [
    "# // Call LoadMotorConfiguration on the device to initialize the DeviceUnitConverter object required for real unit parameters\n",
    "# MotorConfiguration motorConfiguration = device.LoadMotorConfiguration(serialNo);\n",
    "# ThorlabsIntegratedStepperMotorSettings currentDeviceSettings = device.MotorDeviceSettings as \n",
    "# ThorlabsIntegratedStepperMotorSettings;\n",
    "\n",
    "motorConfiguration = device.LoadMotorConfiguration(serial_no)\n"
   ]
  },
  {
   "cell_type": "code",
   "execution_count": 26,
   "id": "c4921830",
   "metadata": {},
   "outputs": [
    {
     "data": {
      "text/plain": [
       "<Thorlabs.MotionControl.DeviceManagerCLI.SingleDeviceInfo object at 0x00000197750FE400>"
      ]
     },
     "execution_count": 26,
     "metadata": {},
     "output_type": "execute_result"
    }
   ],
   "source": [
    "di = device.GetDeviceInfo();\n",
    "di"
   ]
  },
  {
   "cell_type": "code",
   "execution_count": 27,
   "id": "5e00df3d",
   "metadata": {},
   "outputs": [],
   "source": [
    "workDone = device.InitializeWaitHandler();\n",
    "device.Home( workDone);\n",
    "# device.Wait(60000);\n"
   ]
  },
  {
   "cell_type": "code",
   "execution_count": 58,
   "id": "d7a8c48a",
   "metadata": {},
   "outputs": [],
   "source": [
    "device.MoveTo(Decimal(0.0), workDone);"
   ]
  },
  {
   "cell_type": "code",
   "execution_count": 59,
   "id": "8b57c893",
   "metadata": {},
   "outputs": [],
   "source": [
    "devPos = device.Position"
   ]
  },
  {
   "cell_type": "code",
   "execution_count": 60,
   "id": "0dabd524",
   "metadata": {},
   "outputs": [
    {
     "name": "stdout",
     "output_type": "stream",
     "text": [
      "7,979088\n"
     ]
    }
   ],
   "source": [
    "print(devPos)"
   ]
  },
  {
   "cell_type": "code",
   "execution_count": 61,
   "id": "d7617915",
   "metadata": {},
   "outputs": [
    {
     "name": "stdout",
     "output_type": "stream",
     "text": [
      "Thorlabs.MotionControl.GenericMotorCLI.AdvancedMotor.StepperStatus\n"
     ]
    }
   ],
   "source": [
    "print(device.Status)"
   ]
  },
  {
   "cell_type": "code",
   "execution_count": 62,
   "id": "acb201b2",
   "metadata": {},
   "outputs": [],
   "source": [
    "stat = device.Status"
   ]
  },
  {
   "cell_type": "code",
   "execution_count": 63,
   "id": "38ca2c1e",
   "metadata": {},
   "outputs": [
    {
     "data": {
      "text/plain": [
       "True"
      ]
     },
     "execution_count": 63,
     "metadata": {},
     "output_type": "execute_result"
    }
   ],
   "source": [
    "stat.IsInMotion"
   ]
  },
  {
   "cell_type": "code",
   "execution_count": 52,
   "id": "52a6b821",
   "metadata": {},
   "outputs": [],
   "source": [
    "mrd = device.GetMoveRelativeDistance()"
   ]
  },
  {
   "cell_type": "code",
   "execution_count": 56,
   "id": "c69c7a0a",
   "metadata": {},
   "outputs": [
    {
     "name": "stdout",
     "output_type": "stream",
     "text": [
      "0\n"
     ]
    }
   ],
   "source": [
    "print(mrd)"
   ]
  },
  {
   "cell_type": "code",
   "execution_count": 64,
   "id": "d5cd6356",
   "metadata": {},
   "outputs": [
    {
     "name": "stdout",
     "output_type": "stream",
     "text": [
      "0\n"
     ]
    }
   ],
   "source": [
    "print(device.TargetPosition)"
   ]
  },
  {
   "cell_type": "code",
   "execution_count": 65,
   "id": "b7befa11",
   "metadata": {},
   "outputs": [],
   "source": [
    "device.Disconnect()"
   ]
  },
  {
   "cell_type": "code",
   "execution_count": 61,
   "id": "ada100e9",
   "metadata": {},
   "outputs": [
    {
     "data": {
      "text/plain": [
       "6.0"
      ]
     },
     "execution_count": 61,
     "metadata": {},
     "output_type": "execute_result"
    }
   ],
   "source": [
    "float(devPos.ToString().replace(',', '.'))"
   ]
  },
  {
   "cell_type": "code",
   "execution_count": 62,
   "id": "7017014f",
   "metadata": {},
   "outputs": [
    {
     "name": "stdout",
     "output_type": "stream",
     "text": [
      "6\n"
     ]
    }
   ],
   "source": [
    "print(devPos)"
   ]
  },
  {
   "cell_type": "markdown",
   "id": "5cc54dc6",
   "metadata": {},
   "source": [
    "# Flipper"
   ]
  },
  {
   "cell_type": "code",
   "execution_count": 2,
   "id": "a8922ded",
   "metadata": {},
   "outputs": [],
   "source": [
    "import os\n",
    "import time\n",
    "import sys\n",
    "import clr\n",
    "import numpy as np\n",
    "\n",
    "# Add References to .NET libraries\n",
    "clr.AddReference(\"C:\\\\Program Files\\\\Thorlabs\\\\Kinesis\\\\Thorlabs.MotionControl.DeviceManagerCLI.dll\")\n",
    "clr.AddReference(\"C:\\\\Program Files\\\\Thorlabs\\\\Kinesis\\\\Thorlabs.MotionControl.GenericMotorCLI.dll\")\n",
    "clr.AddReference(\"C:\\\\Program Files\\\\Thorlabs\\\\Kinesis\\\\Thorlabs.MotionControl.Benchtop.DCServoCLI.dll.\")\n",
    "clr.AddReference(\"C:\\\\Program Files\\\\Thorlabs\\\\Kinesis\\\\Thorlabs.MotionControl.IntegratedStepperMotorsCLI.dll.\")\n",
    "clr.AddReference(\"C:\\\\Program Files\\\\Thorlabs\\\\Kinesis\\\\Thorlabs.MotionControl.FilterFlipperCLI.dll\")\n",
    "\n",
    "\n",
    "from Thorlabs.MotionControl.DeviceManagerCLI import *\n",
    "from Thorlabs.MotionControl.GenericMotorCLI import *\n",
    "from Thorlabs.MotionControl.Benchtop.DCServoCLI import *\n",
    "# from Thorlabs.MotionControl.IntegratedStepperMotorsUI import *\n",
    "from Thorlabs.MotionControl.IntegratedStepperMotorsCLI import *\n",
    "from Thorlabs.MotionControl.FilterFlipperCLI import *\n",
    "from System import Decimal  # Required for real units"
   ]
  },
  {
   "cell_type": "code",
   "execution_count": 3,
   "id": "b35b43be",
   "metadata": {},
   "outputs": [],
   "source": [
    "DeviceManagerCLI.BuildDeviceList()"
   ]
  },
  {
   "cell_type": "code",
   "execution_count": 6,
   "id": "64d84547",
   "metadata": {},
   "outputs": [
    {
     "ename": "NullReferenceException",
     "evalue": "Odwołanie do obiektu nie zostało ustawione na wystąpienie obiektu.\r\n   w Thorlabs.MotionControl.GenericMotorCLI.GenericMotorCLI.InitializeStateMachine(IntPtr ptr)\r\n   w Thorlabs.MotionControl.GenericMotorCLI.SimpleMotor.GenericSimpleMotorCLI.InitializeStateMachine(IntPtr ptr)\r\n   w Thorlabs.MotionControl.FilterFlipperCLI.FilterFlipper.InitializeDevice(String serialNo)\r\n   w Thorlabs.MotionControl.FilterFlipperCLI.FilterFlipper.CreateFilterFlipper(String serialNo)",
     "output_type": "error",
     "traceback": [
      "\u001b[1;31m---------------------------------------------------------------------------\u001b[0m",
      "\u001b[1;31mNullReferenceException\u001b[0m                    Traceback (most recent call last)",
      "Cell \u001b[1;32mIn[6], line 3\u001b[0m\n\u001b[0;32m      1\u001b[0m serial_no \u001b[38;5;241m=\u001b[39m \u001b[38;5;124m\"\u001b[39m\u001b[38;5;124m37004961\u001b[39m\u001b[38;5;124m\"\u001b[39m\n\u001b[1;32m----> 3\u001b[0m device \u001b[38;5;241m=\u001b[39m FilterFlipper\u001b[38;5;241m.\u001b[39mCreateFilterFlipper(serial_no)\n",
      "\u001b[1;31mNullReferenceException\u001b[0m: Odwołanie do obiektu nie zostało ustawione na wystąpienie obiektu.\r\n   w Thorlabs.MotionControl.GenericMotorCLI.GenericMotorCLI.InitializeStateMachine(IntPtr ptr)\r\n   w Thorlabs.MotionControl.GenericMotorCLI.SimpleMotor.GenericSimpleMotorCLI.InitializeStateMachine(IntPtr ptr)\r\n   w Thorlabs.MotionControl.FilterFlipperCLI.FilterFlipper.InitializeDevice(String serialNo)\r\n   w Thorlabs.MotionControl.FilterFlipperCLI.FilterFlipper.CreateFilterFlipper(String serialNo)"
     ]
    }
   ],
   "source": [
    "serial_no = \"37004961\"\n",
    "\n",
    "device = FilterFlipper.CreateFilterFlipper(serial_no)"
   ]
  },
  {
   "cell_type": "code",
   "execution_count": null,
   "id": "5f6791e0",
   "metadata": {},
   "outputs": [],
   "source": []
  },
  {
   "cell_type": "code",
   "execution_count": null,
   "id": "004e5f4d",
   "metadata": {},
   "outputs": [],
   "source": []
  }
 ],
 "metadata": {
  "kernelspec": {
   "display_name": "Python 3 (ipykernel)",
   "language": "python",
   "name": "python3"
  },
  "language_info": {
   "codemirror_mode": {
    "name": "ipython",
    "version": 3
   },
   "file_extension": ".py",
   "mimetype": "text/x-python",
   "name": "python",
   "nbconvert_exporter": "python",
   "pygments_lexer": "ipython3",
   "version": "3.11.3"
  }
 },
 "nbformat": 4,
 "nbformat_minor": 5
}
