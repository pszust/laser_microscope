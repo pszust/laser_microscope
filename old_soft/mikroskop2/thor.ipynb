{
 "cells": [
  {
   "cell_type": "markdown",
   "id": "86bdd20a",
   "metadata": {},
   "source": [
    "# M30"
   ]
  },
  {
   "cell_type": "code",
   "execution_count": 2,
   "id": "f06b0eaa",
   "metadata": {},
   "outputs": [],
   "source": [
    "\"\"\"\n",
    "An example that uses the .NET Kinesis Libraries to connect to an M30XY stage\n",
    "\n",
    "This is also applicable to the M30X stage.\n",
    "\"\"\"\n",
    "import os\n",
    "import time\n",
    "import sys\n",
    "import clr\n",
    "import numpy as np\n",
    "\n",
    "# Add References to .NET libraries\n",
    "clr.AddReference(\"C:\\\\Program Files\\\\Thorlabs\\\\Kinesis\\\\Thorlabs.MotionControl.DeviceManagerCLI.dll\")\n",
    "clr.AddReference(\"C:\\\\Program Files\\\\Thorlabs\\\\Kinesis\\\\Thorlabs.MotionControl.GenericMotorCLI.dll\")\n",
    "clr.AddReference(\"C:\\\\Program Files\\\\Thorlabs\\\\Kinesis\\\\Thorlabs.MotionControl.Benchtop.DCServoCLI.dll.\")\n",
    "clr.AddReference(\"C:\\\\Program Files\\\\Thorlabs\\\\Kinesis\\\\Thorlabs.MotionControl.IntegratedStepperMotorsCLI.dll.\")\n",
    "clr.AddReference(\"C:\\\\Program Files\\\\Thorlabs\\\\Kinesis\\\\Thorlabs.MotionControl.IntegratedStepperMotorsUI.dll\")\n",
    "\n",
    "\n",
    "from Thorlabs.MotionControl.DeviceManagerCLI import *\n",
    "from Thorlabs.MotionControl.GenericMotorCLI import *\n",
    "from Thorlabs.MotionControl.Benchtop.DCServoCLI import *\n",
    "from Thorlabs.MotionControl.IntegratedStepperMotorsUI import *\n",
    "from Thorlabs.MotionControl.IntegratedStepperMotorsCLI import *\n",
    "from System import Decimal  # Required for real units"
   ]
  },
  {
   "cell_type": "code",
   "execution_count": 3,
   "id": "dfa97946",
   "metadata": {},
   "outputs": [
    {
     "name": "stdout",
     "output_type": "stream",
     "text": [
      "M30X/M30XY\n"
     ]
    }
   ],
   "source": [
    "DeviceManagerCLI.BuildDeviceList()\n",
    "# create new device\n",
    "serial_no = \"101334424\"  # Replace this line with your device's serial number\n",
    "\n",
    "device = BenchtopDCServo.CreateBenchtopDCServo(serial_no)\n",
    "\n",
    "# Connect, begin polling, and enable\n",
    "device.Connect(serial_no)\n",
    "time.sleep(0.25)  # wait statements are important to allow settings to be sent to the device\n",
    "\n",
    "# Get Device Information and display description\n",
    "device_info = device.GetDeviceInfo()\n",
    "print(device_info.Description)\n",
    "\n",
    "# Get the channel for the device\n",
    "x_channel = device.GetChannel(1)  # Returns a benchtop channel object\n",
    "y_channel = device.GetChannel(2)\n",
    "\n",
    "# Start Polling and enable channel\n",
    "x_channel.StartPolling(250)\n",
    "y_channel.StartPolling(250)\n",
    "time.sleep(0.25)\n",
    "x_channel.EnableDevice()\n",
    "y_channel.EnableDevice()\n",
    "time.sleep(0.25)"
   ]
  },
  {
   "cell_type": "code",
   "execution_count": 5,
   "id": "eed8d2b5",
   "metadata": {},
   "outputs": [],
   "source": [
    "# Load the motor configuration on the channel\n",
    "x_config = x_channel.LoadMotorConfiguration(x_channel.DeviceID)\n",
    "y_config = y_channel.LoadMotorConfiguration(y_channel.DeviceID)\n",
    "\n",
    "# Read in the device settings\n",
    "dev_settings = x_channel.MotorDeviceSettings"
   ]
  },
  {
   "cell_type": "code",
   "execution_count": 11,
   "id": "8989c3c3",
   "metadata": {},
   "outputs": [],
   "source": [
    "x_channel.MoveTo(Decimal(float(5)), 20000)"
   ]
  },
  {
   "cell_type": "code",
   "execution_count": 12,
   "id": "6bf515f6",
   "metadata": {},
   "outputs": [
    {
     "data": {
      "text/plain": [
       "False"
      ]
     },
     "execution_count": 12,
     "metadata": {},
     "output_type": "execute_result"
    }
   ],
   "source": [
    "device.IsDeviceBusy"
   ]
  },
  {
   "cell_type": "code",
   "execution_count": 13,
   "id": "317df489",
   "metadata": {},
   "outputs": [],
   "source": [
    "x_channel.Home(60000)"
   ]
  },
  {
   "cell_type": "code",
   "execution_count": null,
   "id": "2cce6c32",
   "metadata": {},
   "outputs": [],
   "source": []
  },
  {
   "cell_type": "markdown",
   "id": "64c18c8d",
   "metadata": {},
   "source": [
    "# LabJack"
   ]
  },
  {
   "cell_type": "code",
   "execution_count": 18,
   "id": "c5d06d22",
   "metadata": {},
   "outputs": [],
   "source": [
    "\"\"\"\n",
    "An example that uses the .NET Kinesis Libraries to connect to an M30XY stage\n",
    "\n",
    "This is also applicable to the M30X stage.\n",
    "\"\"\"\n",
    "import os\n",
    "import time\n",
    "import sys\n",
    "import clr\n",
    "import numpy as np\n",
    "\n",
    "# Add References to .NET libraries\n",
    "clr.AddReference(\"C:\\\\Program Files\\\\Thorlabs\\\\Kinesis\\\\Thorlabs.MotionControl.DeviceManagerCLI.dll\")\n",
    "clr.AddReference(\"C:\\\\Program Files\\\\Thorlabs\\\\Kinesis\\\\Thorlabs.MotionControl.GenericMotorCLI.dll\")\n",
    "clr.AddReference(\"C:\\\\Program Files\\\\Thorlabs\\\\Kinesis\\\\Thorlabs.MotionControl.Benchtop.DCServoCLI.dll.\")\n",
    "clr.AddReference(\"C:\\\\Program Files\\\\Thorlabs\\\\Kinesis\\\\Thorlabs.MotionControl.IntegratedStepperMotorsCLI.dll.\")\n",
    "clr.AddReference(\"C:\\\\Program Files\\\\Thorlabs\\\\Kinesis\\\\Thorlabs.MotionControl.IntegratedStepperMotorsUI.dll\")\n",
    "\n",
    "\n",
    "from Thorlabs.MotionControl.DeviceManagerCLI import *\n",
    "from Thorlabs.MotionControl.GenericMotorCLI import *\n",
    "from Thorlabs.MotionControl.Benchtop.DCServoCLI import *\n",
    "from Thorlabs.MotionControl.IntegratedStepperMotorsUI import *\n",
    "from Thorlabs.MotionControl.IntegratedStepperMotorsCLI import *\n",
    "from System import Decimal  # Required for real units"
   ]
  },
  {
   "cell_type": "code",
   "execution_count": 19,
   "id": "ff1ea112",
   "metadata": {},
   "outputs": [],
   "source": [
    "clr.AddReference(\"C:\\\\Program Files\\\\Thorlabs\\\\Kinesis\\\\Thorlabs.MotionControl.IntegratedStepperMotorsCLI.dll.\")\n",
    "clr.AddReference(\"C:\\\\Program Files\\\\Thorlabs\\\\Kinesis\\\\Thorlabs.MotionControl.IntegratedStepperMotorsUI.dll\")\n",
    "from Thorlabs.MotionControl.IntegratedStepperMotorsUI import *\n",
    "from Thorlabs.MotionControl.IntegratedStepperMotorsCLI import *"
   ]
  },
  {
   "cell_type": "code",
   "execution_count": 20,
   "id": "3e13da79",
   "metadata": {},
   "outputs": [],
   "source": [
    "DeviceManagerCLI.BuildDeviceList()"
   ]
  },
  {
   "cell_type": "code",
   "execution_count": 21,
   "id": "035cf2bc",
   "metadata": {},
   "outputs": [],
   "source": [
    "# labjack\n",
    "serial_no = \"49337314\"\n",
    "\n",
    "# flipper\n",
    "# serial_no = \"37004961\"\n",
    "\n",
    "# m30\n",
    "# serial_no = \"101334424\""
   ]
  },
  {
   "cell_type": "code",
   "execution_count": 22,
   "id": "f811a2dd",
   "metadata": {},
   "outputs": [
    {
     "name": "stdout",
     "output_type": "stream",
     "text": [
      "APT Stepper Motor Controller\n"
     ]
    }
   ],
   "source": [
    "# serial_no = \"37004961\"  # Replace this line with your device's serial number\n",
    "\n",
    "# device = BenchtopDCServo.CreateBenchtopDCServo(serial_no)\n",
    "device = LabJack.CreateLabJack(serial_no)\n",
    "\n",
    "# Connect, begin polling, and enable\n",
    "device.Connect(serial_no)\n",
    "time.sleep(0.25)  # wait statements are important to allow settings to be sent to the device\n",
    "\n",
    "# Get Device Information and display description\n",
    "device_info = device.GetDeviceInfo()\n",
    "print(device_info.Description)"
   ]
  },
  {
   "cell_type": "code",
   "execution_count": 23,
   "id": "cd797792",
   "metadata": {},
   "outputs": [],
   "source": [
    "device.StartPolling(250)"
   ]
  },
  {
   "cell_type": "code",
   "execution_count": 24,
   "id": "08e6711e",
   "metadata": {},
   "outputs": [],
   "source": [
    "device.EnableDevice()"
   ]
  },
  {
   "cell_type": "code",
   "execution_count": 25,
   "id": "6374a9ce",
   "metadata": {},
   "outputs": [],
   "source": [
    "# // Call LoadMotorConfiguration on the device to initialize the DeviceUnitConverter object required for real unit parameters\n",
    "# MotorConfiguration motorConfiguration = device.LoadMotorConfiguration(serialNo);\n",
    "# ThorlabsIntegratedStepperMotorSettings currentDeviceSettings = device.MotorDeviceSettings as \n",
    "# ThorlabsIntegratedStepperMotorSettings;\n",
    "\n",
    "motorConfiguration = device.LoadMotorConfiguration(serial_no)\n"
   ]
  },
  {
   "cell_type": "code",
   "execution_count": 26,
   "id": "9a5870e9",
   "metadata": {},
   "outputs": [
    {
     "data": {
      "text/plain": [
       "<Thorlabs.MotionControl.DeviceManagerCLI.SingleDeviceInfo object at 0x00000197750FE400>"
      ]
     },
     "execution_count": 26,
     "metadata": {},
     "output_type": "execute_result"
    }
   ],
   "source": [
    "di = device.GetDeviceInfo();\n",
    "di"
   ]
  },
  {
   "cell_type": "code",
   "execution_count": 27,
   "id": "ffced35b",
   "metadata": {},
   "outputs": [],
   "source": [
    "workDone = device.InitializeWaitHandler();\n",
    "device.Home( workDone);\n",
    "# device.Wait(60000);\n"
   ]
  },
  {
   "cell_type": "code",
   "execution_count": 58,
   "id": "c05ec9c7",
   "metadata": {},
   "outputs": [],
   "source": [
    "device.MoveTo(Decimal(0.0), workDone);"
   ]
  },
  {
   "cell_type": "code",
   "execution_count": 59,
   "id": "f3416e8f",
   "metadata": {},
   "outputs": [],
   "source": [
    "devPos = device.Position"
   ]
  },
  {
   "cell_type": "code",
   "execution_count": 60,
   "id": "b4790ddc",
   "metadata": {},
   "outputs": [
    {
     "name": "stdout",
     "output_type": "stream",
     "text": [
      "7,979088\n"
     ]
    }
   ],
   "source": [
    "print(devPos)"
   ]
  },
  {
   "cell_type": "code",
   "execution_count": 61,
   "id": "0f90957b",
   "metadata": {},
   "outputs": [
    {
     "name": "stdout",
     "output_type": "stream",
     "text": [
      "Thorlabs.MotionControl.GenericMotorCLI.AdvancedMotor.StepperStatus\n"
     ]
    }
   ],
   "source": [
    "print(device.Status)"
   ]
  },
  {
   "cell_type": "code",
   "execution_count": 62,
   "id": "68c016ab",
   "metadata": {},
   "outputs": [],
   "source": [
    "stat = device.Status"
   ]
  },
  {
   "cell_type": "code",
   "execution_count": 63,
   "id": "c32a98c7",
   "metadata": {},
   "outputs": [
    {
     "data": {
      "text/plain": [
       "True"
      ]
     },
     "execution_count": 63,
     "metadata": {},
     "output_type": "execute_result"
    }
   ],
   "source": [
    "stat.IsInMotion"
   ]
  },
  {
   "cell_type": "code",
   "execution_count": 52,
   "id": "5740b547",
   "metadata": {},
   "outputs": [],
   "source": [
    "mrd = device.GetMoveRelativeDistance()"
   ]
  },
  {
   "cell_type": "code",
   "execution_count": 56,
   "id": "60e45791",
   "metadata": {},
   "outputs": [
    {
     "name": "stdout",
     "output_type": "stream",
     "text": [
      "0\n"
     ]
    }
   ],
   "source": [
    "print(mrd)"
   ]
  },
  {
   "cell_type": "code",
   "execution_count": 64,
   "id": "0185269c",
   "metadata": {},
   "outputs": [
    {
     "name": "stdout",
     "output_type": "stream",
     "text": [
      "0\n"
     ]
    }
   ],
   "source": [
    "print(device.TargetPosition)"
   ]
  },
  {
   "cell_type": "code",
   "execution_count": 65,
   "id": "8c56afe9",
   "metadata": {},
   "outputs": [],
   "source": [
    "device.Disconnect()"
   ]
  },
  {
   "cell_type": "code",
   "execution_count": 61,
   "id": "0aef46f6",
   "metadata": {},
   "outputs": [
    {
     "data": {
      "text/plain": [
       "6.0"
      ]
     },
     "execution_count": 61,
     "metadata": {},
     "output_type": "execute_result"
    }
   ],
   "source": [
    "float(devPos.ToString().replace(',', '.'))"
   ]
  },
  {
   "cell_type": "code",
   "execution_count": 62,
   "id": "084b846b",
   "metadata": {},
   "outputs": [
    {
     "name": "stdout",
     "output_type": "stream",
     "text": [
      "6\n"
     ]
    }
   ],
   "source": [
    "print(devPos)"
   ]
  },
  {
   "cell_type": "markdown",
   "id": "7126f6e9",
   "metadata": {},
   "source": [
    "# Flipper"
   ]
  },
  {
   "cell_type": "code",
   "execution_count": 2,
   "id": "3ffd52d2",
   "metadata": {},
   "outputs": [],
   "source": [
    "import os\n",
    "import time\n",
    "import sys\n",
    "import clr\n",
    "import numpy as np\n",
    "\n",
    "# Add References to .NET libraries\n",
    "clr.AddReference(\"C:\\\\Program Files\\\\Thorlabs\\\\Kinesis\\\\Thorlabs.MotionControl.DeviceManagerCLI.dll\")\n",
    "clr.AddReference(\"C:\\\\Program Files\\\\Thorlabs\\\\Kinesis\\\\Thorlabs.MotionControl.GenericMotorCLI.dll\")\n",
    "clr.AddReference(\"C:\\\\Program Files\\\\Thorlabs\\\\Kinesis\\\\Thorlabs.MotionControl.Benchtop.DCServoCLI.dll.\")\n",
    "clr.AddReference(\"C:\\\\Program Files\\\\Thorlabs\\\\Kinesis\\\\Thorlabs.MotionControl.IntegratedStepperMotorsCLI.dll.\")\n",
    "clr.AddReference(\"C:\\\\Program Files\\\\Thorlabs\\\\Kinesis\\\\Thorlabs.MotionControl.FilterFlipperCLI.dll\")\n",
    "\n",
    "\n",
    "from Thorlabs.MotionControl.DeviceManagerCLI import *\n",
    "from Thorlabs.MotionControl.GenericMotorCLI import *\n",
    "from Thorlabs.MotionControl.Benchtop.DCServoCLI import *\n",
    "# from Thorlabs.MotionControl.IntegratedStepperMotorsUI import *\n",
    "from Thorlabs.MotionControl.IntegratedStepperMotorsCLI import *\n",
    "from Thorlabs.MotionControl.FilterFlipperCLI import *\n",
    "from System import Decimal  # Required for real units"
   ]
  },
  {
   "cell_type": "code",
   "execution_count": 3,
   "id": "b54ac78f",
   "metadata": {},
   "outputs": [],
   "source": [
    "DeviceManagerCLI.BuildDeviceList()"
   ]
  },
  {
   "cell_type": "code",
   "execution_count": 6,
   "id": "519bfe4d",
   "metadata": {},
   "outputs": [
    {
     "ename": "NullReferenceException",
     "evalue": "Odwołanie do obiektu nie zostało ustawione na wystąpienie obiektu.\r\n   w Thorlabs.MotionControl.GenericMotorCLI.GenericMotorCLI.InitializeStateMachine(IntPtr ptr)\r\n   w Thorlabs.MotionControl.GenericMotorCLI.SimpleMotor.GenericSimpleMotorCLI.InitializeStateMachine(IntPtr ptr)\r\n   w Thorlabs.MotionControl.FilterFlipperCLI.FilterFlipper.InitializeDevice(String serialNo)\r\n   w Thorlabs.MotionControl.FilterFlipperCLI.FilterFlipper.CreateFilterFlipper(String serialNo)",
     "output_type": "error",
     "traceback": [
      "\u001b[1;31m---------------------------------------------------------------------------\u001b[0m",
      "\u001b[1;31mNullReferenceException\u001b[0m                    Traceback (most recent call last)",
      "Cell \u001b[1;32mIn[6], line 3\u001b[0m\n\u001b[0;32m      1\u001b[0m serial_no \u001b[38;5;241m=\u001b[39m \u001b[38;5;124m\"\u001b[39m\u001b[38;5;124m37004961\u001b[39m\u001b[38;5;124m\"\u001b[39m\n\u001b[1;32m----> 3\u001b[0m device \u001b[38;5;241m=\u001b[39m FilterFlipper\u001b[38;5;241m.\u001b[39mCreateFilterFlipper(serial_no)\n",
      "\u001b[1;31mNullReferenceException\u001b[0m: Odwołanie do obiektu nie zostało ustawione na wystąpienie obiektu.\r\n   w Thorlabs.MotionControl.GenericMotorCLI.GenericMotorCLI.InitializeStateMachine(IntPtr ptr)\r\n   w Thorlabs.MotionControl.GenericMotorCLI.SimpleMotor.GenericSimpleMotorCLI.InitializeStateMachine(IntPtr ptr)\r\n   w Thorlabs.MotionControl.FilterFlipperCLI.FilterFlipper.InitializeDevice(String serialNo)\r\n   w Thorlabs.MotionControl.FilterFlipperCLI.FilterFlipper.CreateFilterFlipper(String serialNo)"
     ]
    }
   ],
   "source": [
    "serial_no = \"37004961\"\n",
    "\n",
    "device = FilterFlipper.CreateFilterFlipper(serial_no)"
   ]
  },
  {
   "cell_type": "code",
   "execution_count": null,
   "id": "c9200c26",
   "metadata": {},
   "outputs": [],
   "source": []
  },
  {
   "cell_type": "code",
   "execution_count": null,
   "id": "c4a7295c",
   "metadata": {},
   "outputs": [],
   "source": []
  }
 ],
 "metadata": {
  "kernelspec": {
   "display_name": "Python 3 (ipykernel)",
   "language": "python",
   "name": "python3"
  },
  "language_info": {
   "codemirror_mode": {
    "name": "ipython",
    "version": 3
   },
   "file_extension": ".py",
   "mimetype": "text/x-python",
   "name": "python",
   "nbconvert_exporter": "python",
   "pygments_lexer": "ipython3",
   "version": "3.11.3"
  }
 },
 "nbformat": 4,
 "nbformat_minor": 5
}
