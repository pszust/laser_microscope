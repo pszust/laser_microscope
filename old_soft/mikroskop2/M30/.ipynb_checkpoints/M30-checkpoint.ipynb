{
 "cells": [
  {
   "cell_type": "code",
   "execution_count": 14,
   "id": "devoted-mountain",
   "metadata": {
    "ExecuteTime": {
     "end_time": "2023-01-16T09:30:47.623333Z",
     "start_time": "2023-01-16T09:30:46.946562Z"
    }
   },
   "outputs": [],
   "source": [
    "import os\n",
    "import time\n",
    "import sys\n",
    "import clr\n",
    "import numpy as np\n",
    "from multiprocessing import Process\n",
    "from multiprocessing import Value\n",
    "from multiprocessing import RawArray\n",
    "from multiprocessing import Event\n",
    "from ctypes import *\n",
    "\n",
    "# Add References to .NET libraries\n",
    "clr.AddReference(\"C:\\\\Program Files\\\\Thorlabs\\\\Kinesis\\\\Thorlabs.MotionControl.DeviceManagerCLI.dll\")\n",
    "clr.AddReference(\"C:\\\\Program Files\\\\Thorlabs\\\\Kinesis\\\\Thorlabs.MotionControl.GenericMotorCLI.dll\")\n",
    "clr.AddReference(\"C:\\\\Program Files\\\\Thorlabs\\\\Kinesis\\\\Thorlabs.MotionControl.Benchtop.DCServoCLI.dll.\")\n",
    "\n",
    "\n",
    "from Thorlabs.MotionControl.DeviceManagerCLI import *\n",
    "from Thorlabs.MotionControl.GenericMotorCLI import *\n",
    "from Thorlabs.MotionControl.Benchtop.DCServoCLI import *\n",
    "from System import Decimal  # Required for real units"
   ]
  },
  {
   "cell_type": "code",
   "execution_count": 15,
   "id": "c693b60f",
   "metadata": {},
   "outputs": [
    {
     "data": {
      "text/plain": [
       "c_long(42)"
      ]
     },
     "execution_count": 15,
     "metadata": {},
     "output_type": "execute_result"
    }
   ],
   "source": [
    "c_int(42)"
   ]
  },
  {
   "cell_type": "code",
   "execution_count": 16,
   "id": "4d845009",
   "metadata": {
    "scrolled": true
   },
   "outputs": [],
   "source": [
    "m30_pos = RawArray(c_int, (0, 0))"
   ]
  },
  {
   "cell_type": "code",
   "execution_count": 17,
   "id": "freelance-object",
   "metadata": {
    "ExecuteTime": {
     "end_time": "2023-01-16T09:31:07.423641Z",
     "start_time": "2023-01-16T09:31:03.991135Z"
    }
   },
   "outputs": [
    {
     "name": "stdout",
     "output_type": "stream",
     "text": [
      "M30X/M30XY\n"
     ]
    }
   ],
   "source": [
    "DeviceManagerCLI.BuildDeviceList()\n",
    "# create new device\n",
    "serial_no = \"101334424\"  # Replace this line with your device's serial number\n",
    "\n",
    "device = BenchtopDCServo.CreateBenchtopDCServo(serial_no)\n",
    "\n",
    "# Connect, begin polling, and enable\n",
    "device.Connect(serial_no)\n",
    "time.sleep(0.25)  # wait statements are important to allow settings to be sent to the device\n",
    "\n",
    "# Get Device Information and display description\n",
    "device_info = device.GetDeviceInfo()\n",
    "print(device_info.Description)\n",
    "\n",
    "# Get the channel for the device\n",
    "x_channel = device.GetChannel(1)  # Returns a benchtop channel object\n",
    "y_channel = device.GetChannel(2)\n",
    "\n",
    "# Start Polling and enable channel\n",
    "x_channel.StartPolling(250)\n",
    "y_channel.StartPolling(250)\n",
    "time.sleep(0.25)\n",
    "x_channel.EnableDevice()\n",
    "y_channel.EnableDevice()\n",
    "time.sleep(0.25)\n",
    "\n",
    "# Check that the settings are initialised, else error.\n",
    "if not x_channel.IsSettingsInitialized() or not y_channel.IsSettingsInitialized():\n",
    "    x_channel.WaitForSettingsInitialized(10000)  # 10 second timeout\n",
    "    y_channel.WaitForSettingsInitialized(10000)\n",
    "    assert device.IsSettingsInitialized() is True\n",
    "\n",
    "# Load the motor configuration on the channel\n",
    "x_config = x_channel.LoadMotorConfiguration(x_channel.DeviceID)\n",
    "y_config = y_channel.LoadMotorConfiguration(y_channel.DeviceID)\n",
    "\n",
    "# Read in the device settings\n",
    "dev_settings = x_channel.MotorDeviceSettings\n",
    "\n",
    "# Get the Homing Params\n",
    "x_home_params = x_channel.GetHomingParams()\n",
    "y_home_params = y_channel.GetHomingParams()\n",
    "\n",
    "x_home_params.Velocity = Decimal(2.0)\n",
    "y_home_params.Velocity = Decimal(2.0)\n",
    "\n",
    "x_channel.SetHomingParams(x_home_params)\n",
    "y_channel.SetHomingParams(y_home_params)"
   ]
  },
  {
   "cell_type": "code",
   "execution_count": 18,
   "id": "funded-culture",
   "metadata": {
    "ExecuteTime": {
     "end_time": "2023-01-16T10:22:09.106129Z",
     "start_time": "2023-01-16T10:21:36.244826Z"
    }
   },
   "outputs": [
    {
     "name": "stdout",
     "output_type": "stream",
     "text": [
      "Homing X Channel\n"
     ]
    }
   ],
   "source": [
    "print(\"Homing X Channel\")\n",
    "x_channel.Home(60000)  # 60 second timeout"
   ]
  },
  {
   "cell_type": "code",
   "execution_count": 5,
   "id": "fancy-solid",
   "metadata": {
    "ExecuteTime": {
     "end_time": "2023-01-16T10:22:50.495719Z",
     "start_time": "2023-01-16T10:22:50.479370Z"
    }
   },
   "outputs": [],
   "source": [
    "x_vel_params = x_channel.GetVelocityParams()\n",
    "y_vel_params = y_channel.GetVelocityParams()\n",
    "\n",
    "x_vel_params.Acceleration = Decimal(5.0)\n",
    "x_vel_params.MaxVelocity = Decimal(2.4)\n",
    "y_vel_params.Acceleration = Decimal(5.0)\n",
    "y_vel_params.MaxVelocity = Decimal(2.4)\n",
    "\n",
    "x_channel.SetVelocityParams(x_vel_params)\n",
    "y_channel.SetVelocityParams(y_vel_params)"
   ]
  },
  {
   "cell_type": "code",
   "execution_count": 23,
   "id": "shaped-vanilla",
   "metadata": {
    "ExecuteTime": {
     "end_time": "2023-01-16T10:30:26.114208Z",
     "start_time": "2023-01-16T10:30:23.246247Z"
    }
   },
   "outputs": [],
   "source": [
    "x_channel.MoveTo(Decimal(float(0)), 20000)"
   ]
  },
  {
   "cell_type": "code",
   "execution_count": 24,
   "id": "nuclear-wages",
   "metadata": {
    "ExecuteTime": {
     "end_time": "2023-01-16T10:30:26.135456Z",
     "start_time": "2023-01-16T10:30:26.120444Z"
    }
   },
   "outputs": [],
   "source": [
    "dec = x_channel.DevicePosition"
   ]
  },
  {
   "cell_type": "code",
   "execution_count": 25,
   "id": "spare-barbados",
   "metadata": {
    "ExecuteTime": {
     "end_time": "2023-01-16T10:30:26.413069Z",
     "start_time": "2023-01-16T10:30:26.397012Z"
    }
   },
   "outputs": [
    {
     "data": {
      "text/plain": [
       "<System.Decimal object at 0x00000258FBFD9180>"
      ]
     },
     "execution_count": 25,
     "metadata": {},
     "output_type": "execute_result"
    }
   ],
   "source": [
    "dec"
   ]
  },
  {
   "cell_type": "code",
   "execution_count": 26,
   "id": "trying-translation",
   "metadata": {
    "ExecuteTime": {
     "end_time": "2023-01-16T10:30:26.752975Z",
     "start_time": "2023-01-16T10:30:26.736700Z"
    }
   },
   "outputs": [
    {
     "name": "stdout",
     "output_type": "stream",
     "text": [
      "0,0001\n"
     ]
    }
   ],
   "source": [
    "print(dec)"
   ]
  },
  {
   "cell_type": "code",
   "execution_count": 27,
   "id": "cc703e83",
   "metadata": {},
   "outputs": [
    {
     "data": {
      "text/plain": [
       "System.Decimal"
      ]
     },
     "execution_count": 27,
     "metadata": {},
     "output_type": "execute_result"
    }
   ],
   "source": [
    "type(dec)"
   ]
  },
  {
   "cell_type": "code",
   "execution_count": 28,
   "id": "9770ebdf",
   "metadata": {},
   "outputs": [
    {
     "data": {
      "text/plain": [
       "'0,0001'"
      ]
     },
     "execution_count": 28,
     "metadata": {},
     "output_type": "execute_result"
    }
   ],
   "source": [
    "dec.ToString()"
   ]
  },
  {
   "cell_type": "code",
   "execution_count": null,
   "id": "appropriate-custom",
   "metadata": {
    "ExecuteTime": {
     "end_time": "2023-01-16T10:56:22.207640Z",
     "start_time": "2023-01-16T10:56:21.549709Z"
    }
   },
   "outputs": [],
   "source": [
    "y_channel.StopPolling()\n",
    "x_channel.StopPolling()\n",
    "device.Disconnect()"
   ]
  },
  {
   "cell_type": "code",
   "execution_count": 29,
   "id": "architectural-joseph",
   "metadata": {},
   "outputs": [
    {
     "data": {
      "text/plain": [
       "1.23"
      ]
     },
     "execution_count": 29,
     "metadata": {},
     "output_type": "execute_result"
    }
   ],
   "source": [
    "f = 1.231239483857438534\n",
    "round(f, 2)"
   ]
  },
  {
   "cell_type": "code",
   "execution_count": null,
   "id": "401e652b",
   "metadata": {},
   "outputs": [],
   "source": []
  }
 ],
 "metadata": {
  "kernelspec": {
   "display_name": "Python 3 (ipykernel)",
   "language": "python",
   "name": "python3"
  },
  "language_info": {
   "codemirror_mode": {
    "name": "ipython",
    "version": 3
   },
   "file_extension": ".py",
   "mimetype": "text/x-python",
   "name": "python",
   "nbconvert_exporter": "python",
   "pygments_lexer": "ipython3",
   "version": "3.11.3"
  },
  "toc": {
   "base_numbering": 1,
   "nav_menu": {},
   "number_sections": true,
   "sideBar": true,
   "skip_h1_title": false,
   "title_cell": "Table of Contents",
   "title_sidebar": "Contents",
   "toc_cell": false,
   "toc_position": {},
   "toc_section_display": true,
   "toc_window_display": false
  }
 },
 "nbformat": 4,
 "nbformat_minor": 5
}
