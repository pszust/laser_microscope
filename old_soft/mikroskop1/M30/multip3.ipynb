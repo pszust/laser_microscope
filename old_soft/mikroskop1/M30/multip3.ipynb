{
 "cells": [
  {
   "cell_type": "code",
   "execution_count": 58,
   "id": "815f44f7",
   "metadata": {
    "ExecuteTime": {
     "end_time": "2023-01-16T12:41:43.700572Z",
     "start_time": "2023-01-16T12:41:43.491226Z"
    }
   },
   "outputs": [],
   "source": [
    "# example of extending the Process class and adding shared attributes\n",
    "from time import sleep\n",
    "from multiprocessing import Process\n",
    "from multiprocessing import Value\n",
    "from multiprocessing import Array\n",
    "from multiprocessing import Event\n",
    "from multiprocessing import RawArray\n",
    "from PIL import Image, ImageTk, ImageFont, ImageDraw, ImageChops\n",
    "from matplotlib import pyplot as plt\n",
    "import numpy as np"
   ]
  },
  {
   "cell_type": "code",
   "execution_count": 32,
   "id": "9a1ebe45",
   "metadata": {
    "ExecuteTime": {
     "end_time": "2023-01-16T12:14:39.494161Z",
     "start_time": "2023-01-16T12:14:39.474190Z"
    }
   },
   "outputs": [],
   "source": [
    "# custom process class\n",
    "class CustomProcess(Process):\n",
    "#     override the constructor\n",
    "    def __init__(self, event, sharr):\n",
    "        # execute the base constructor\n",
    "        Process.__init__(self)\n",
    "        # initialize integer attribute\n",
    "        self.event = event\n",
    "        self.sharr = sharr\n",
    "        self.data = Value('i', 0)\n",
    "\n",
    "    # override the run function\n",
    "    def run(self):\n",
    "        while(True):\n",
    "            sleep(1)    \n",
    "            # store the data variable\n",
    "            self.data.value = int(100*np.random.random())\n",
    "            np_arr = (np.random.random(6)*100).astype(np.uint8).reshape(2, 3)\n",
    "            self.sharr = numpy_to_raw(np_arr)\n",
    "            \n",
    "            if self.event.is_set():\n",
    "                break"
   ]
  },
  {
   "cell_type": "code",
   "execution_count": 33,
   "id": "933fbee2",
   "metadata": {
    "ExecuteTime": {
     "end_time": "2023-01-16T12:14:40.704460Z",
     "start_time": "2023-01-16T12:14:40.696460Z"
    }
   },
   "outputs": [],
   "source": [
    "def raw_to_numpy(raw, shape = (600, 800, 3)):\n",
    "    return np.frombuffer(raw, dtype=np.uint8).reshape(shape)\n",
    "\n",
    "\n",
    "def numpy_to_raw(np_arr):\n",
    "    return RawArray(np.ctypeslib.as_ctypes_type(np_arr.dtype), np_arr.flatten())"
   ]
  },
  {
   "cell_type": "code",
   "execution_count": 34,
   "id": "0b15b02d",
   "metadata": {
    "ExecuteTime": {
     "end_time": "2023-01-16T12:14:42.329900Z",
     "start_time": "2023-01-16T12:14:41.252598Z"
    }
   },
   "outputs": [
    {
     "name": "stdout",
     "output_type": "stream",
     "text": [
      "Waiting for the child process to finish\n",
      "[[1 2 3]\n",
      " [4 5 6]]\n",
      "[[1 2 3]\n",
      " [4 5 6]]\n",
      "[[1 2 3]\n",
      " [4 5 6]]\n",
      "[[1 2 3]\n",
      " [4 5 6]]\n",
      "[[1 2 3]\n",
      " [4 5 6]]\n",
      "[[1 2 3]\n",
      " [4 5 6]]\n",
      "[[1 2 3]\n",
      " [4 5 6]]\n",
      "[[1 2 3]\n",
      " [4 5 6]]\n",
      "[[1 2 3]\n",
      " [4 5 6]]\n",
      "[[1 2 3]\n",
      " [4 5 6]]\n",
      "Parent got: 0\n"
     ]
    }
   ],
   "source": [
    "event = Event()\n",
    "sharr = RawArray('c', (1, 2, 3, 4, 5, 6))\n",
    "process = CustomProcess(event, sharr)\n",
    "\n",
    "# start the process\n",
    "process.start()\n",
    "# wait for the process to finish\n",
    "print('Waiting for the child process to finish')\n",
    "\n",
    "for i in range(0, 10):\n",
    "    arr = raw_to_numpy(sharr, shape = (2, 3))\n",
    "    print(arr)\n",
    "    \n",
    "#     data = [item for item in sharr]\n",
    "#     print(data)\n",
    "    sleep(0.1)\n",
    "\n",
    "event.set()\n",
    "\n",
    "# process.join()\n",
    "# report the process attribute\n",
    "print(f'Parent got: {process.data.value}')"
   ]
  },
  {
   "cell_type": "code",
   "execution_count": 27,
   "id": "28875cca",
   "metadata": {
    "ExecuteTime": {
     "end_time": "2023-01-16T11:53:59.842657Z",
     "start_time": "2023-01-16T11:53:59.822631Z"
    }
   },
   "outputs": [
    {
     "data": {
      "text/plain": [
       "array([[0, 1, 2],\n",
       "       [3, 4, 5]], dtype=uint8)"
      ]
     },
     "execution_count": 27,
     "metadata": {},
     "output_type": "execute_result"
    }
   ],
   "source": [
    "np_arr = np.arange(6).astype(np.uint8).reshape(2, 3)\n",
    "np_arr"
   ]
  },
  {
   "cell_type": "code",
   "execution_count": 39,
   "id": "39f6f55d",
   "metadata": {
    "ExecuteTime": {
     "end_time": "2023-01-16T12:19:46.656991Z",
     "start_time": "2023-01-16T12:19:46.650010Z"
    }
   },
   "outputs": [],
   "source": [
    "np_arr = (np.random.random(6)*100).astype(np.uint8).reshape(2, 3)"
   ]
  },
  {
   "cell_type": "code",
   "execution_count": 52,
   "id": "59ab3598",
   "metadata": {
    "ExecuteTime": {
     "end_time": "2023-01-16T12:24:47.140913Z",
     "start_time": "2023-01-16T12:24:47.130942Z"
    }
   },
   "outputs": [
    {
     "name": "stdout",
     "output_type": "stream",
     "text": [
      "17 <class 'numpy.uint8'>\n",
      "35 <class 'numpy.uint8'>\n",
      "67 <class 'numpy.uint8'>\n",
      "44 <class 'numpy.uint8'>\n",
      "83 <class 'numpy.uint8'>\n",
      "72 <class 'numpy.uint8'>\n"
     ]
    }
   ],
   "source": [
    "sharr = RawArray('c', (1, 2, 3, 4, 5, 6))\n",
    "for i in range(0, np_arr.flatten().shape[0]):\n",
    "    print(np_arr.flatten()[i], type(np_arr.flatten()[i]))\n",
    "    sharr[i] = int(np_arr.flatten()[i])"
   ]
  },
  {
   "cell_type": "code",
   "execution_count": 46,
   "id": "6879db33",
   "metadata": {
    "ExecuteTime": {
     "end_time": "2023-01-16T12:20:49.955355Z",
     "start_time": "2023-01-16T12:20:49.945351Z"
    }
   },
   "outputs": [
    {
     "data": {
      "text/plain": [
       "(6,)"
      ]
     },
     "execution_count": 46,
     "metadata": {},
     "output_type": "execute_result"
    }
   ],
   "source": [
    "np_arr.flatten().shape"
   ]
  },
  {
   "cell_type": "code",
   "execution_count": 59,
   "id": "4f6ee30c",
   "metadata": {
    "ExecuteTime": {
     "end_time": "2023-01-16T12:41:46.302712Z",
     "start_time": "2023-01-16T12:41:46.294744Z"
    }
   },
   "outputs": [],
   "source": [
    "def generate_random_image():\n",
    "    fontpath = 'OpenSans-Regular.ttf'\n",
    "    font11 = ImageFont.truetype(fontpath, 34)\n",
    "\n",
    "    frame = np.zeros((448, 800, 3), np.uint8)\n",
    "\n",
    "    words = 'Jamnik – jedna z ras psów pochodząca z Niemiec. Niemiecka nazwa jamnika Dachshund oznacza w dosłownym tłumaczeniu \"borsuczy pies\", etymologia nazwy związana jest z jego zbliżoną do borsuków budową oraz wykorzystywaniem tej rasy do polowania na zwierzęta ryjące nory.'.split(' ')\n",
    "    # words = ['jamnik', 'chirality', 'nanoparticles', 'gold', 'liquid crystal', 'camera error', 'impact factor',\n",
    "            # 'laser', 'samples', 'work', 'nematic', 'helical', 'danger', 'run', 'thorlabs', 'microscope', 'science',\n",
    "            # 'strange', 'temperature']\n",
    "    \n",
    "    img_pil = Image.fromarray(frame)\n",
    "    draw = ImageDraw.Draw(img_pil)\n",
    "    for i in range(0, 40):\n",
    "        clr = int(60 + 195*np.random.random())\n",
    "        draw.text((int(700*np.random.random()), int(400*np.random.random())), np.random.choice(words), font = font11, fill = (clr, clr, clr))\n",
    "    return np.array(img_pil)"
   ]
  },
  {
   "cell_type": "code",
   "execution_count": 60,
   "id": "20829605",
   "metadata": {
    "ExecuteTime": {
     "end_time": "2023-01-16T12:41:46.446493Z",
     "start_time": "2023-01-16T12:41:46.402510Z"
    }
   },
   "outputs": [],
   "source": [
    "img = generate_random_image()"
   ]
  },
  {
   "cell_type": "code",
   "execution_count": 63,
   "id": "4129d784",
   "metadata": {
    "ExecuteTime": {
     "end_time": "2023-01-16T12:42:11.418718Z",
     "start_time": "2023-01-16T12:42:11.408936Z"
    }
   },
   "outputs": [
    {
     "data": {
      "text/plain": [
       "numpy.ndarray"
      ]
     },
     "execution_count": 63,
     "metadata": {},
     "output_type": "execute_result"
    }
   ],
   "source": [
    "type(img)"
   ]
  },
  {
   "cell_type": "code",
   "execution_count": 64,
   "id": "dcee5653",
   "metadata": {
    "ExecuteTime": {
     "end_time": "2023-01-16T12:42:52.368982Z",
     "start_time": "2023-01-16T12:42:52.358954Z"
    }
   },
   "outputs": [
    {
     "data": {
      "text/plain": [
       "(448, 800, 3)"
      ]
     },
     "execution_count": 64,
     "metadata": {},
     "output_type": "execute_result"
    }
   ],
   "source": [
    "img.shape"
   ]
  },
  {
   "cell_type": "code",
   "execution_count": 66,
   "id": "33ecd7b1",
   "metadata": {
    "ExecuteTime": {
     "end_time": "2023-01-16T12:44:25.065946Z",
     "start_time": "2023-01-16T12:44:25.046998Z"
    }
   },
   "outputs": [
    {
     "name": "stdout",
     "output_type": "stream",
     "text": [
      "17 <class 'numpy.uint8'>\n",
      "35 <class 'numpy.uint8'>\n",
      "67 <class 'numpy.uint8'>\n",
      "44 <class 'numpy.uint8'>\n",
      "83 <class 'numpy.uint8'>\n",
      "72 <class 'numpy.uint8'>\n"
     ]
    }
   ],
   "source": [
    "sharr = RawArray('c', img.shape[0]*img.shape[1]*img.shape[2])\n",
    "for i in range(0, np_arr.flatten().shape[0]):\n",
    "    print(np_arr.flatten()[i], type(np_arr.flatten()[i]))\n",
    "    sharr[i] = int(np_arr.flatten()[i])"
   ]
  },
  {
   "cell_type": "code",
   "execution_count": 67,
   "id": "7c4ac2b1",
   "metadata": {
    "ExecuteTime": {
     "end_time": "2023-01-16T12:54:27.342486Z",
     "start_time": "2023-01-16T12:54:27.332521Z"
    }
   },
   "outputs": [
    {
     "data": {
      "text/plain": [
       "1075200"
      ]
     },
     "execution_count": 67,
     "metadata": {},
     "output_type": "execute_result"
    }
   ],
   "source": [
    "img.shape[0]*img.shape[1]*img.shape[2]"
   ]
  },
  {
   "cell_type": "code",
   "execution_count": 77,
   "id": "bf44b94a",
   "metadata": {
    "ExecuteTime": {
     "end_time": "2023-01-16T13:56:22.902672Z",
     "start_time": "2023-01-16T13:56:22.892645Z"
    }
   },
   "outputs": [],
   "source": [
    "config_arr = RawArray('c', (5, 8))"
   ]
  },
  {
   "cell_type": "code",
   "execution_count": 78,
   "id": "8e08562e",
   "metadata": {
    "ExecuteTime": {
     "end_time": "2023-01-16T13:56:23.289838Z",
     "start_time": "2023-01-16T13:56:23.269826Z"
    }
   },
   "outputs": [
    {
     "name": "stdout",
     "output_type": "stream",
     "text": [
      "b'\\x08' <class 'bytes'>\n"
     ]
    }
   ],
   "source": [
    "print(config_arr[1], type(config_arr[0]))"
   ]
  },
  {
   "cell_type": "code",
   "execution_count": null,
   "id": "34691376",
   "metadata": {},
   "outputs": [],
   "source": []
  }
 ],
 "metadata": {
  "kernelspec": {
   "display_name": "Python 3 (ipykernel)",
   "language": "python",
   "name": "python3"
  },
  "language_info": {
   "codemirror_mode": {
    "name": "ipython",
    "version": 3
   },
   "file_extension": ".py",
   "mimetype": "text/x-python",
   "name": "python",
   "nbconvert_exporter": "python",
   "pygments_lexer": "ipython3",
   "version": "3.7.11"
  },
  "toc": {
   "base_numbering": 1,
   "nav_menu": {},
   "number_sections": true,
   "sideBar": true,
   "skip_h1_title": false,
   "title_cell": "Table of Contents",
   "title_sidebar": "Contents",
   "toc_cell": false,
   "toc_position": {},
   "toc_section_display": true,
   "toc_window_display": false
  }
 },
 "nbformat": 4,
 "nbformat_minor": 5
}
