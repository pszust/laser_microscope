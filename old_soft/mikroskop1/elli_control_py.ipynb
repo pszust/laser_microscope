{
 "cells": [
  {
   "cell_type": "code",
   "execution_count": 2,
   "id": "assumed-notification",
   "metadata": {
    "ExecuteTime": {
     "end_time": "2021-12-06T19:57:52.918971Z",
     "start_time": "2021-12-06T19:57:52.788322Z"
    }
   },
   "outputs": [],
   "source": [
    "# import sys, ftd2xx as ftd\n",
    "import cv2\n",
    "import time"
   ]
  },
  {
   "cell_type": "code",
   "execution_count": 2,
   "id": "buried-shark",
   "metadata": {},
   "outputs": [],
   "source": [
    "d = ftd.open(0)    # Open first FTDI device\n",
    "\n",
    "def ft_read(d, nbytes):\n",
    "    s = d.read(nbytes)\n",
    "    return s\n",
    "#     return [ord(c) for c in s] if type(s) is str else list(s)"
   ]
  },
  {
   "cell_type": "code",
   "execution_count": 3,
   "id": "blind-welding",
   "metadata": {},
   "outputs": [
    {
     "name": "stdout",
     "output_type": "stream",
     "text": [
      "{'type': 9, 'id': 67330069, 'description': b'FT230X Basic UART', 'serial': b'DK0AG2FA'}\n"
     ]
    }
   ],
   "source": [
    "\n",
    "print(d.getDeviceInfo())\n",
    "d.setBaudRate(9600)"
   ]
  },
  {
   "cell_type": "code",
   "execution_count": null,
   "id": "permanent-google",
   "metadata": {},
   "outputs": [],
   "source": [
    "print(ft_read(d, 32))\n",
    "print('0IN 0E 11400235 2021 15 01 0168 0002300')"
   ]
  },
  {
   "cell_type": "code",
   "execution_count": null,
   "id": "close-aruba",
   "metadata": {},
   "outputs": [],
   "source": [
    "d.write(b'0in')\n",
    "resp = ft_read(d, 32)\n",
    "print(resp)"
   ]
  },
  {
   "cell_type": "code",
   "execution_count": 19,
   "id": "contained-bibliography",
   "metadata": {},
   "outputs": [
    {
     "ename": "SyntaxError",
     "evalue": "unexpected EOF while parsing (<ipython-input-19-af626f4d88f9>, line 4)",
     "output_type": "error",
     "traceback": [
      "\u001b[1;36m  File \u001b[1;32m\"<ipython-input-19-af626f4d88f9>\"\u001b[1;36m, line \u001b[1;32m4\u001b[0m\n\u001b[1;33m    #jamnik\u001b[0m\n\u001b[1;37m           ^\u001b[0m\n\u001b[1;31mSyntaxError\u001b[0m\u001b[1;31m:\u001b[0m unexpected EOF while parsing\n"
     ]
    }
   ],
   "source": [
    "try:\n",
    "    d.close()\n",
    "except:\n",
    "    #jamnik"
   ]
  },
  {
   "cell_type": "code",
   "execution_count": 4,
   "id": "multiple-scope",
   "metadata": {},
   "outputs": [
    {
     "name": "stdout",
     "output_type": "stream",
     "text": [
      "b'0GS00\\r\\n'\n"
     ]
    }
   ],
   "source": [
    "\n",
    "\n",
    "d.write(b\"0gs\")\n",
    "time.sleep(1)\n",
    "\n",
    "print(ft_read(d, 32))"
   ]
  },
  {
   "cell_type": "code",
   "execution_count": 11,
   "id": "heard-personal",
   "metadata": {},
   "outputs": [
    {
     "data": {
      "text/plain": [
       "3"
      ]
     },
     "execution_count": 11,
     "metadata": {},
     "output_type": "execute_result"
    }
   ],
   "source": [
    "d.write(b\"0ho\")\n",
    "# print(ft_read(d, 32))"
   ]
  },
  {
   "cell_type": "code",
   "execution_count": 9,
   "id": "atlantic-infrastructure",
   "metadata": {},
   "outputs": [],
   "source": [
    "ppr = 262144"
   ]
  },
  {
   "cell_type": "code",
   "execution_count": 27,
   "id": "later-working",
   "metadata": {},
   "outputs": [
    {
     "data": {
      "text/plain": [
       "'00000100'"
      ]
     },
     "execution_count": 27,
     "metadata": {},
     "output_type": "execute_result"
    }
   ],
   "source": [
    "value = 256\n",
    "value = str(hex(value))\n",
    "value[value.find('x')+1:].zfill(8)"
   ]
  },
  {
   "cell_type": "code",
   "execution_count": 33,
   "id": "owned-prompt",
   "metadata": {},
   "outputs": [
    {
     "data": {
      "text/plain": [
       "'0xffffffff'"
      ]
     },
     "execution_count": 33,
     "metadata": {},
     "output_type": "execute_result"
    }
   ],
   "source": [
    "x = -1\n",
    "\n",
    "hex(((abs(x) ^ 0xffffffff) + 1) & 0xffffffff)"
   ]
  },
  {
   "cell_type": "code",
   "execution_count": 9,
   "id": "alive-subdivision",
   "metadata": {},
   "outputs": [
    {
     "name": "stdout",
     "output_type": "stream",
     "text": [
      "35820\n",
      "b'0ma00008BEC'\n"
     ]
    },
    {
     "data": {
      "text/plain": [
       "11"
      ]
     },
     "execution_count": 9,
     "metadata": {},
     "output_type": "execute_result"
    }
   ],
   "source": [
    "value = int(90*398)\n",
    "\n",
    "if value < 0: \n",
    "    value_hex = str(hex(((abs(value) ^ 0xffffffff) + 1) & 0xffffffff))\n",
    "else:\n",
    "    value_hex = str(hex(value))\n",
    "    \n",
    "    \n",
    "value_hex = value_hex[value_hex.find('x')+1:].zfill(8)\n",
    "value_hex = value_hex.replace('a', 'A')\n",
    "value_hex = value_hex.replace('b', 'B')\n",
    "value_hex = value_hex.replace('c', 'C')\n",
    "value_hex = value_hex.replace('d', 'D')\n",
    "value_hex = value_hex.replace('e', 'E')\n",
    "value_hex = value_hex.replace('f', 'F')\n",
    "\n",
    "command = bytes('0ma%s'%value_hex.zfill(8), 'ascii')\n",
    "print(value)\n",
    "print(command)\n",
    "d.write(command)\n",
    "\n",
    "# print(ft_read(d, 32))"
   ]
  },
  {
   "cell_type": "code",
   "execution_count": 9,
   "id": "pursuant-orlando",
   "metadata": {},
   "outputs": [
    {
     "name": "stdout",
     "output_type": "stream",
     "text": [
      "b'0PO0000031D\\r\\n'\n"
     ]
    }
   ],
   "source": [
    "d.write(b'0ma0000031C')\n",
    "print(ft_read(d, 32))"
   ]
  },
  {
   "cell_type": "code",
   "execution_count": 17,
   "id": "consolidated-comparative",
   "metadata": {},
   "outputs": [
    {
     "name": "stdout",
     "output_type": "stream",
     "text": [
      "b'0ma000008fc'\n"
     ]
    },
    {
     "data": {
      "text/plain": [
       "11"
      ]
     },
     "execution_count": 17,
     "metadata": {},
     "output_type": "execute_result"
    }
   ],
   "source": [
    "value = int(1*2300)\n",
    "\n",
    "if value < 0: \n",
    "    value = str(hex(((abs(value) ^ 0xffffffff) + 1) & 0xffffffff))\n",
    "else:\n",
    "    value = str(hex(value))\n",
    "    \n",
    "    \n",
    "value = value[value.find('x')+1:].zfill(8)\n",
    "\n",
    "command = bytes('0ma%s'%value.zfill(8), 'ascii')\n",
    "print(command)\n",
    "d.write(command)"
   ]
  },
  {
   "cell_type": "code",
   "execution_count": 13,
   "id": "sized-eclipse",
   "metadata": {},
   "outputs": [
    {
     "data": {
      "text/plain": [
       "10"
      ]
     },
     "execution_count": 13,
     "metadata": {},
     "output_type": "execute_result"
    }
   ],
   "source": [
    "int(0x0A)"
   ]
  },
  {
   "cell_type": "code",
   "execution_count": 6,
   "id": "desirable-maple",
   "metadata": {},
   "outputs": [
    {
     "name": "stdout",
     "output_type": "stream",
     "text": [
      "0ma00000000\n",
      "0ma00000064\n",
      "0ma000000c8\n",
      "0ma0000012c\n",
      "0ma00000190\n",
      "0ma000001f4\n",
      "0ma00000258\n",
      "0ma000002bc\n",
      "0ma00000320\n",
      "0ma00000384\n"
     ]
    }
   ],
   "source": [
    "for value in range(0, 1000, 100):\n",
    "    value = str(hex(value))\n",
    "    value = value[value.find('x')+1:].zfill(8)\n",
    "\n",
    "    command = '0ma%s'%value.zfill(8)\n",
    "    print(command)\n",
    "    d.write(bytes(command, 'ascii'))\n",
    "    time.sleep(1)"
   ]
  },
  {
   "cell_type": "markdown",
   "id": "reasonable-advice",
   "metadata": {},
   "source": [
    "# serial command (working)"
   ]
  },
  {
   "cell_type": "code",
   "execution_count": 1,
   "id": "mysterious-killer",
   "metadata": {
    "ExecuteTime": {
     "end_time": "2022-02-01T13:06:05.913797Z",
     "start_time": "2022-02-01T13:06:05.763907Z"
    }
   },
   "outputs": [],
   "source": [
    "import serial\n",
    "import cv2\n",
    "import time"
   ]
  },
  {
   "cell_type": "code",
   "execution_count": 2,
   "id": "curious-nicholas",
   "metadata": {
    "ExecuteTime": {
     "end_time": "2022-02-01T13:06:06.293724Z",
     "start_time": "2022-02-01T13:06:06.273735Z"
    }
   },
   "outputs": [],
   "source": [
    "def connect_to_elliptec1(com_i):\n",
    "    ser = serial.Serial()\n",
    "    ser.baudrate = 9600\n",
    "    ser.port='COM%d'%com_i\n",
    "    ser.timeout = 6\n",
    "    \n",
    "    try:\n",
    "        ser.open()    \n",
    "        ser.write(b'0in')\n",
    "        resp = ser.read(32)\n",
    "        if resp == b'0IN0E114002352021150101680002300': \n",
    "            print('Connected to elliptec on COM%d'%com_i)\n",
    "            return ser\n",
    "        else:\n",
    "            print('COM%d is not elliptec'%com_i)\n",
    "            print('Response: %s'%resp)\n",
    "            return None\n",
    "    except:\n",
    "        print('Device on COM%d is not available'%com_i)\n",
    "        return None\n",
    "    \n",
    "    \n",
    "def connect_to_elliptec2(com_i):\n",
    "    ser = serial.Serial()\n",
    "    ser.baudrate = 9600\n",
    "    ser.port='COM%d'%com_i\n",
    "    ser.timeout = 6\n",
    "    \n",
    "    try:\n",
    "        ser.open()    \n",
    "        ser.write(b'0in')\n",
    "        resp = ser.read(32)\n",
    "        if resp == b'0IN0E114008572021150101680002300': \n",
    "            print('Connected to elliptec on COM%d'%com_i)\n",
    "            return ser\n",
    "        else:\n",
    "            print('COM%d is not elliptec'%com_i)\n",
    "            print('Response: %s'%resp)\n",
    "            return None\n",
    "    except:\n",
    "        print('Device on COM%d is not available'%com_i)\n",
    "        return None\n",
    "    \n",
    "\n",
    "def angle_to_ellocommand(value):\n",
    "    value = int(value*398)\n",
    "    if value < 0: \n",
    "        value_hex = str(hex(((abs(value) ^ 0xffffffff) + 1) & 0xffffffff))\n",
    "    else:\n",
    "        value_hex = str(hex(value))\n",
    "\n",
    "\n",
    "    value_hex = value_hex[value_hex.find('x')+1:].zfill(8)\n",
    "    value_hex = value_hex.replace('a', 'A')\n",
    "    value_hex = value_hex.replace('b', 'B')\n",
    "    value_hex = value_hex.replace('c', 'C')\n",
    "    value_hex = value_hex.replace('d', 'D')\n",
    "    value_hex = value_hex.replace('e', 'E')\n",
    "    value_hex = value_hex.replace('f', 'F')\n",
    "\n",
    "    return bytes('0ma%s'%value_hex.zfill(8), 'ascii')"
   ]
  },
  {
   "cell_type": "code",
   "execution_count": 3,
   "id": "accessible-judgment",
   "metadata": {
    "ExecuteTime": {
     "end_time": "2022-02-01T13:06:06.883729Z",
     "start_time": "2022-02-01T13:06:06.873730Z"
    }
   },
   "outputs": [],
   "source": [
    "import sys\n",
    "import glob\n",
    "\n",
    "\n",
    "def serial_ports():\n",
    "    \"\"\" Lists serial port names\n",
    "\n",
    "        :raises EnvironmentError:\n",
    "            On unsupported or unknown platforms\n",
    "        :returns:\n",
    "            A list of the serial ports available on the system\n",
    "    \"\"\"\n",
    "    if sys.platform.startswith('win'):\n",
    "        ports = ['COM%s' % (i + 1) for i in range(256)]\n",
    "    elif sys.platform.startswith('linux') or sys.platform.startswith('cygwin'):\n",
    "        # this excludes your current terminal \"/dev/tty\"\n",
    "        ports = glob.glob('/dev/tty[A-Za-z]*')\n",
    "    elif sys.platform.startswith('darwin'):\n",
    "        ports = glob.glob('/dev/tty.*')\n",
    "    else:\n",
    "        raise EnvironmentError('Unsupported platform')\n",
    "\n",
    "    result = []\n",
    "    for port in ports:\n",
    "        try:\n",
    "            s = serial.Serial(port)\n",
    "            s.close()\n",
    "            result.append(port)\n",
    "        except (OSError, serial.SerialException):\n",
    "            pass\n",
    "    return result"
   ]
  },
  {
   "cell_type": "code",
   "execution_count": 6,
   "id": "elegant-partition",
   "metadata": {
    "ExecuteTime": {
     "end_time": "2022-02-01T13:09:35.352068Z",
     "start_time": "2022-02-01T13:09:35.332051Z"
    }
   },
   "outputs": [
    {
     "data": {
      "text/plain": [
       "['COM10']"
      ]
     },
     "execution_count": 6,
     "metadata": {},
     "output_type": "execute_result"
    }
   ],
   "source": [
    "serial_ports()"
   ]
  },
  {
   "cell_type": "code",
   "execution_count": 49,
   "id": "34ee65b1",
   "metadata": {
    "ExecuteTime": {
     "end_time": "2022-01-20T13:01:56.217804Z",
     "start_time": "2022-01-20T13:01:56.147841Z"
    }
   },
   "outputs": [
    {
     "name": "stdout",
     "output_type": "stream",
     "text": [
      "Connected to elliptec on COM9\n"
     ]
    }
   ],
   "source": [
    "ser = connect_to_elliptec2(9)"
   ]
  },
  {
   "cell_type": "code",
   "execution_count": 39,
   "id": "documentary-junction",
   "metadata": {
    "ExecuteTime": {
     "end_time": "2022-01-20T12:53:45.269989Z",
     "start_time": "2022-01-20T12:53:45.139498Z"
    }
   },
   "outputs": [],
   "source": [
    "ser.close()"
   ]
  },
  {
   "cell_type": "code",
   "execution_count": 51,
   "id": "tired-confidence",
   "metadata": {
    "ExecuteTime": {
     "end_time": "2022-01-20T13:02:05.162407Z",
     "start_time": "2022-01-20T13:02:05.152384Z"
    }
   },
   "outputs": [
    {
     "data": {
      "text/plain": [
       "b'0IN0E1140085720211501016800023000\\r\\n'"
      ]
     },
     "execution_count": 51,
     "metadata": {},
     "output_type": "execute_result"
    }
   ],
   "source": [
    "ser.write(b'0in')\n",
    "ser.read_until(b'\\n')  # better switch to this function in connect_to_elliptec sometime"
   ]
  },
  {
   "cell_type": "code",
   "execution_count": 52,
   "id": "continuing-indianapolis",
   "metadata": {
    "ExecuteTime": {
     "end_time": "2022-01-20T13:02:09.714890Z",
     "start_time": "2022-01-20T13:02:09.695091Z"
    }
   },
   "outputs": [
    {
     "data": {
      "text/plain": [
       "11"
      ]
     },
     "execution_count": 52,
     "metadata": {},
     "output_type": "execute_result"
    }
   ],
   "source": [
    "ser.write(angle_to_ellocommand(180))\n",
    "# ser.read(32)"
   ]
  },
  {
   "cell_type": "code",
   "execution_count": 8,
   "id": "about-liverpool",
   "metadata": {
    "ExecuteTime": {
     "end_time": "2022-01-20T12:46:48.047024Z",
     "start_time": "2022-01-20T12:46:48.037030Z"
    }
   },
   "outputs": [
    {
     "data": {
      "text/plain": [
       "3"
      ]
     },
     "execution_count": 8,
     "metadata": {},
     "output_type": "execute_result"
    }
   ],
   "source": [
    "ser.write(b'0ho')"
   ]
  },
  {
   "cell_type": "code",
   "execution_count": 5,
   "id": "aggressive-genre",
   "metadata": {},
   "outputs": [
    {
     "data": {
      "text/plain": [
       "b'0ma000117D8'"
      ]
     },
     "execution_count": 5,
     "metadata": {},
     "output_type": "execute_result"
    }
   ],
   "source": [
    "angle_to_ellocommand(180)"
   ]
  },
  {
   "cell_type": "markdown",
   "id": "f0566f57",
   "metadata": {},
   "source": [
    "# ELL6K"
   ]
  },
  {
   "cell_type": "code",
   "execution_count": 12,
   "id": "f07bf70b",
   "metadata": {
    "ExecuteTime": {
     "end_time": "2021-12-06T20:00:22.792352Z",
     "start_time": "2021-12-06T20:00:22.786372Z"
    }
   },
   "outputs": [],
   "source": [
    "def connect_to_elliptec2(com_i):\n",
    "    ser = serial.Serial()\n",
    "    ser.baudrate = 9600\n",
    "    ser.port='COM%d'%com_i\n",
    "    ser.timeout = 6\n",
    "    \n",
    "    try:\n",
    "        ser.open()    \n",
    "        ser.write(b'0in')\n",
    "        resp = ser.read(32)\n",
    "        if resp == b'0IN061060030620211201001F0000000': \n",
    "            print('Connected to elliptec2 on COM%d'%com_i)\n",
    "            return ser\n",
    "        else:\n",
    "            print('COM%d is not elliptec'%com_i)\n",
    "            print(resp)\n",
    "            return None\n",
    "    except:\n",
    "        print('Device on COM%d is not available'%com_i)\n",
    "        return None"
   ]
  },
  {
   "cell_type": "code",
   "execution_count": 24,
   "id": "agricultural-tanzania",
   "metadata": {
    "ExecuteTime": {
     "end_time": "2021-12-06T20:03:05.110882Z",
     "start_time": "2021-12-06T20:03:05.027118Z"
    }
   },
   "outputs": [
    {
     "name": "stdout",
     "output_type": "stream",
     "text": [
      "Connected to elliptec2 on COM8\n"
     ]
    }
   ],
   "source": [
    "ser = connect_to_elliptec2(8)"
   ]
  },
  {
   "cell_type": "code",
   "execution_count": 27,
   "id": "95fd43b5",
   "metadata": {
    "ExecuteTime": {
     "end_time": "2021-12-06T20:03:36.811139Z",
     "start_time": "2021-12-06T20:03:36.803172Z"
    }
   },
   "outputs": [
    {
     "data": {
      "text/plain": [
       "3"
      ]
     },
     "execution_count": 27,
     "metadata": {},
     "output_type": "execute_result"
    }
   ],
   "source": [
    "ser.write(b'0fw')"
   ]
  },
  {
   "cell_type": "code",
   "execution_count": 28,
   "id": "8073866b",
   "metadata": {
    "ExecuteTime": {
     "end_time": "2021-12-06T20:03:44.058764Z",
     "start_time": "2021-12-06T20:03:44.050796Z"
    }
   },
   "outputs": [
    {
     "data": {
      "text/plain": [
       "3"
      ]
     },
     "execution_count": 28,
     "metadata": {},
     "output_type": "execute_result"
    }
   ],
   "source": [
    "ser.write(b'0bw')"
   ]
  },
  {
   "cell_type": "code",
   "execution_count": 29,
   "id": "a8ab5a82",
   "metadata": {
    "ExecuteTime": {
     "end_time": "2021-12-06T20:05:36.835378Z",
     "start_time": "2021-12-06T20:05:36.707708Z"
    }
   },
   "outputs": [],
   "source": [
    "ser.close()"
   ]
  },
  {
   "cell_type": "code",
   "execution_count": null,
   "id": "6e896074",
   "metadata": {},
   "outputs": [],
   "source": []
  }
 ],
 "metadata": {
  "kernelspec": {
   "display_name": "Python 3 (ipykernel)",
   "language": "python",
   "name": "python3"
  },
  "language_info": {
   "codemirror_mode": {
    "name": "ipython",
    "version": 3
   },
   "file_extension": ".py",
   "mimetype": "text/x-python",
   "name": "python",
   "nbconvert_exporter": "python",
   "pygments_lexer": "ipython3",
   "version": "3.7.11"
  },
  "toc": {
   "base_numbering": 1,
   "nav_menu": {},
   "number_sections": true,
   "sideBar": true,
   "skip_h1_title": false,
   "title_cell": "Table of Contents",
   "title_sidebar": "Contents",
   "toc_cell": false,
   "toc_position": {
    "height": "calc(100% - 180px)",
    "left": "10px",
    "top": "150px",
    "width": "232px"
   },
   "toc_section_display": true,
   "toc_window_display": true
  }
 },
 "nbformat": 4,
 "nbformat_minor": 5
}
