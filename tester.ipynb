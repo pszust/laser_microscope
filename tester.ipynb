{
 "cells": [
  {
   "cell_type": "code",
   "execution_count": 1,
   "id": "41ef79fd",
   "metadata": {},
   "outputs": [],
   "source": [
    "from utils.command_handler import ScriptParser, Command"
   ]
  },
  {
   "cell_type": "code",
   "execution_count": 2,
   "id": "77bcd18b",
   "metadata": {},
   "outputs": [],
   "source": [
    "scr = ScriptParser()\n",
    "lines = scr.load_script(scr.example_script_path)\n",
    "scr.parse(lines)"
   ]
  },
  {
   "cell_type": "code",
   "execution_count": 3,
   "id": "1bbcc9b5",
   "metadata": {},
   "outputs": [],
   "source": [
    "def print_command(cmd, nest = 0):\n",
    "    if type(cmd) == Command:\n",
    "        print(f\"{\"   \"*nest}{cmd.get_format()}\")\n",
    "    elif type(cmd) == list:\n",
    "        for c in cmd:\n",
    "            print_command(c, nest=nest+1)"
   ]
  },
  {
   "cell_type": "code",
   "execution_count": 4,
   "id": "ff97b21f",
   "metadata": {},
   "outputs": [
    {
     "name": "stdout",
     "output_type": "stream",
     "text": [
      "   laser_on()\n",
      "   set_laser_duty(12)\n",
      "   operator(var_a, =, 12)\n",
      "      if(var_a, ==, 12)\n",
      "      set_laser_duty(5)\n",
      "   operator(var_x, =, 0)\n",
      "      loop(4)\n",
      "      laser_on()\n",
      "      wait(2)\n",
      "         if(var_a, >, 12)\n",
      "         set_laser_duty(1)\n",
      "      laser_off()\n",
      "      operator(var_x, +=, 1)\n",
      "      restart_block()\n"
     ]
    }
   ],
   "source": [
    "print_command(scr.commands)"
   ]
  },
  {
   "cell_type": "code",
   "execution_count": 12,
   "id": "c7c66407",
   "metadata": {},
   "outputs": [
    {
     "data": {
      "text/plain": [
       "[<utils.command_handler.Command at 0x29ad8a8cd70>,\n",
       " <utils.command_handler.Command at 0x29ac25daad0>,\n",
       " <utils.command_handler.Command at 0x29ac25da990>,\n",
       " [<utils.command_handler.Command at 0x29ac27c0c30>,\n",
       "  <utils.command_handler.Command at 0x29ac27a17f0>],\n",
       " <utils.command_handler.Command at 0x29ac2779040>,\n",
       " [<utils.command_handler.Command at 0x29ac25f1750>,\n",
       "  <utils.command_handler.Command at 0x29ac25677a0>,\n",
       "  <utils.command_handler.Command at 0x29ad8ad8320>,\n",
       "  [<utils.command_handler.Command at 0x29ac2798e50>,\n",
       "   <utils.command_handler.Command at 0x29ad8ab3ba0>],\n",
       "  <utils.command_handler.Command at 0x29ad89caa50>,\n",
       "  <utils.command_handler.Command at 0x29ad88f76a0>,\n",
       "  <utils.command_handler.Command at 0x29ad8a2bac0>]]"
      ]
     },
     "execution_count": 12,
     "metadata": {},
     "output_type": "execute_result"
    }
   ],
   "source": [
    "scr.commands"
   ]
  },
  {
   "cell_type": "code",
   "execution_count": null,
   "id": "517733a4",
   "metadata": {},
   "outputs": [],
   "source": []
  }
 ],
 "metadata": {
  "kernelspec": {
   "display_name": ".venv",
   "language": "python",
   "name": "python3"
  },
  "language_info": {
   "codemirror_mode": {
    "name": "ipython",
    "version": 3
   },
   "file_extension": ".py",
   "mimetype": "text/x-python",
   "name": "python",
   "nbconvert_exporter": "python",
   "pygments_lexer": "ipython3",
   "version": "3.13.2"
  }
 },
 "nbformat": 4,
 "nbformat_minor": 5
}
