{
 "cells": [
  {
   "cell_type": "code",
   "execution_count": 1,
   "id": "41ef79fd",
   "metadata": {},
   "outputs": [],
   "source": [
    "from utils.command_handler import ScriptParser, Command\n",
    "import numpy as np\n",
    "import cv2\n",
    "import imutils\n",
    "from PIL import Image, ImageTk, ImageFont, ImageDraw, ImageChops\n",
    "from matplotlib import pyplot as plt\n",
    "from external_functions.base_functions import decide_smelting, standard_map, decide_smelting\n",
    "import os\n",
    "import time\n",
    "import pyvisa\n",
    "import logging\n",
    "\n",
    "logger = logging.getLogger(__name__)"
   ]
  },
  {
   "cell_type": "code",
   "execution_count": 25,
   "id": "f8a6f709",
   "metadata": {},
   "outputs": [],
   "source": [
    "def costly_overlay(img: Image.Image, overlay: np.ndarray, R: int, G: int, B: int, s: int = 128) -> Image.Image:\n",
    "    \"\"\"\n",
    "    Draw a colored, semi-transparent overlay on top of `img`, using a grayscale mask `overlay`.\n",
    "    White (255) in overlay -> alpha = s; black (0) -> alpha = 0. Values in between scale linearly.\n",
    "\n",
    "    Args:\n",
    "        img: base PIL image (RGB or RGBA)\n",
    "        overlay: numpy array (H, W) with values 0..255 (will be cast to uint8)\n",
    "        R,G,B: overlay color\n",
    "        s: max opacity (0..255) for mask=255\n",
    "    \"\"\"\n",
    "    # Ensure 8-bit grayscale mask\n",
    "    if overlay.dtype != np.uint8:\n",
    "        overlay = overlay.astype(np.uint8)\n",
    "\n",
    "    mask_L = Image.fromarray(overlay, mode=\"L\")\n",
    "\n",
    "    base_rgba = img.convert(\"RGBA\")\n",
    "\n",
    "    # Solid color layer with zero alpha; we’ll put alpha from the mask\n",
    "    color_rgba = Image.new(\"RGBA\", base_rgba.size, (R, G, B, 0))\n",
    "\n",
    "    # Per-pixel alpha: scale mask [0..255] by s\n",
    "    # If you want a binary mask (on/off), use: lambda v: s if v > 0 else 0\n",
    "    alpha_L = mask_L.point(lambda v: int(v * s / 255))\n",
    "\n",
    "    color_rgba.putalpha(alpha_L)\n",
    "\n",
    "    out = Image.alpha_composite(base_rgba, color_rgba)\n",
    "    return out.convert(\"RGB\")"
   ]
  },
  {
   "cell_type": "code",
   "execution_count": 26,
   "id": "a5c06d0a",
   "metadata": {},
   "outputs": [],
   "source": [
    "img_base = Image.fromarray(np.ones((100, 200))*255).convert(\"RGB\")\n",
    "overlay = np.zeros((100, 200))\n",
    "overlay = cv2.circle(overlay, (30, 50), 45, (255, 255), -1)"
   ]
  },
  {
   "cell_type": "code",
   "execution_count": 27,
   "id": "d76e2523",
   "metadata": {},
   "outputs": [
    {
     "data": {
      "text/plain": [
       "<matplotlib.image.AxesImage at 0x201c75b8b90>"
      ]
     },
     "execution_count": 27,
     "metadata": {},
     "output_type": "execute_result"
    },
    {
     "data": {
      "image/png": "[encoded data removed]",
      "text/plain": [
       "<Figure size 640x480 with 1 Axes>"
      ]
     },
     "metadata": {},
     "output_type": "display_data"
    }
   ],
   "source": [
    "plt.imshow(overlay)"
   ]
  },
  {
   "cell_type": "code",
   "execution_count": 28,
   "id": "7fd39f1d",
   "metadata": {},
   "outputs": [],
   "source": [
    "mix = costly_overlay(img_base, overlay, 255, 0, 0)"
   ]
  },
  {
   "cell_type": "code",
   "execution_count": 29,
   "id": "ea820922",
   "metadata": {},
   "outputs": [
    {
     "data": {
      "text/plain": [
       "<matplotlib.image.AxesImage at 0x201c761f110>"
      ]
     },
     "execution_count": 29,
     "metadata": {},
     "output_type": "execute_result"
    },
    {
     "data": {
      "image/png": "[encoded data removed]",
      "text/plain": [
       "<Figure size 640x480 with 1 Axes>"
      ]
     },
     "metadata": {},
     "output_type": "display_data"
    }
   ],
   "source": [
    "plt.imshow(np.array(mix))"
   ]
  },
  {
   "cell_type": "code",
   "execution_count": null,
   "id": "f52ffb27",
   "metadata": {},
   "outputs": [],
   "source": []
  },
  {
   "cell_type": "code",
   "execution_count": null,
   "id": "59a59f56",
   "metadata": {},
   "outputs": [],
   "source": []
  },
  {
   "cell_type": "code",
   "execution_count": null,
   "id": "bc74b482",
   "metadata": {},
   "outputs": [],
   "source": []
  },
  {
   "cell_type": "code",
   "execution_count": 5,
   "id": "fb1f1b45",
   "metadata": {},
   "outputs": [],
   "source": [
    "# decide_smelting(mapka, 1)"
   ]
  },
  {
   "cell_type": "code",
   "execution_count": 6,
   "id": "fd26e07f",
   "metadata": {},
   "outputs": [],
   "source": [
    "from utils.command_handler import Command, ScriptParser, parse_command\n",
    "\n",
    "path = \"custom_scripts/base_melt.scrpt\"\n",
    "scr = ScriptParser()\n",
    "script_lines = scr.load_script(path)\n",
    "scr.parse(script_lines)"
   ]
  },
  {
   "cell_type": "code",
   "execution_count": 7,
   "id": "783bf7d4",
   "metadata": {},
   "outputs": [
    {
     "data": {
      "text/plain": [
       "['new_block{',\n",
       " 'image1 = load_image1()',\n",
       " 'sleep(1)',\n",
       " 'image2 = load_image2()',\n",
       " 'sleep(1)',\n",
       " 'mapka = exec_custom(standard_map, image1, image2)',\n",
       " 'mapka_rgb = exec_custom(map_to_image, mapka, 1)',\n",
       " '}',\n",
       " 'columns = %arg01',\n",
       " 'rows = %arg02',\n",
       " 'iterations = 0',\n",
       " 'loop_count = 999',\n",
       " 'loop(loop_count){',\n",
       " '    display_alt_image(mapka_rgb)',\n",
       " '    sleep(1)',\n",
       " '    reset_alt_image()',\n",
       " '    sleep(2)',\n",
       " '    iterations += 1',\n",
       " '    if(iterations == 3){',\n",
       " '        exit_loop()',\n",
       " '    }',\n",
       " '}']"
      ]
     },
     "execution_count": 7,
     "metadata": {},
     "output_type": "execute_result"
    }
   ],
   "source": [
    "script_lines"
   ]
  },
  {
   "cell_type": "code",
   "execution_count": 9,
   "id": "cd574ff3",
   "metadata": {},
   "outputs": [
    {
     "name": "stdout",
     "output_type": "stream",
     "text": [
      "      new_block()\n",
      "      operator(image1, =, load_image1)\n",
      "      sleep(1)\n",
      "      operator(image2, =, load_image2)\n",
      "      sleep(1)\n",
      "      operator(mapka, =, exec_custom, standard_map, image1, image2)\n",
      "      operator(mapka_rgb, =, exec_custom, map_to_image, mapka, 1)\n",
      "   operator(columns, =, %arg01)\n",
      "   operator(rows, =, %arg02)\n",
      "   operator(iterations, =, 0)\n",
      "   operator(loop_count, =, 999)\n",
      "      loop(loop_count)\n",
      "      display_alt_image(mapka_rgb)\n",
      "      sleep(1)\n",
      "      reset_alt_image()\n",
      "      sleep(2)\n",
      "      operator(iterations, +=, 1)\n",
      "         if(iterations, ==, 3)\n",
      "         exit_loop()\n",
      "      restart_block()\n"
     ]
    }
   ],
   "source": [
    "from utils.utils import print_command\n",
    "\n",
    "\n",
    "print_command(scr.commands)"
   ]
  },
  {
   "cell_type": "code",
   "execution_count": null,
   "id": "1116c823",
   "metadata": {},
   "outputs": [],
   "source": []
  },
  {
   "cell_type": "code",
   "execution_count": null,
   "id": "5890c928",
   "metadata": {},
   "outputs": [],
   "source": []
  },
  {
   "cell_type": "code",
   "execution_count": null,
   "id": "026c7c29",
   "metadata": {},
   "outputs": [],
   "source": []
  },
  {
   "cell_type": "code",
   "execution_count": 21,
   "id": "aeba8e98",
   "metadata": {},
   "outputs": [],
   "source": [
    "def load_script(path: str) -> list[str]:\n",
    "    with open(path, \"r\") as f:\n",
    "        lines = f.readlines()\n",
    "    return lines\n",
    "\n",
    "def req_construct_script(script_lines, path):\n",
    "    with open(path, \"r\") as f:\n",
    "        lines = f.readlines()\n",
    "    for line in lines:\n",
    "        if \"SCRPT:\" in line:\n",
    "            fname = line.replace(\"SCRPT:\", \"\").strip()\n",
    "            script_lines.append(\"{\")\n",
    "            req_construct_script(script_lines, f\"custom_scripts/{fname}\")\n",
    "            script_lines.append(\"}\")\n",
    "        else:\n",
    "            script_lines.append(line)\n",
    "    return script_lines\n",
    "\n"
   ]
  },
  {
   "cell_type": "code",
   "execution_count": 22,
   "id": "caf36fd2",
   "metadata": {},
   "outputs": [],
   "source": [
    "path = \"custom_scripts/example_script02.scrpt\"\n",
    "lines = req_construct_script([], path)"
   ]
  },
  {
   "cell_type": "code",
   "execution_count": 23,
   "id": "2fa9f438",
   "metadata": {},
   "outputs": [
    {
     "data": {
      "text/plain": [
       "['var_a = 1\\n',\n",
       " 'if(var_a == 1){\\n',\n",
       " '{',\n",
       " 'image1 = load_image1()\\n',\n",
       " 'sleep(1)\\n',\n",
       " 'image2 = load_image2()\\n',\n",
       " 'sleep(1)\\n',\n",
       " 'mapka = exec_custom(standard_map, image1, image2)\\n',\n",
       " 'mapka_rgb = exec_custom(map_to_image, mapka, 1)',\n",
       " '}',\n",
       " '    display_alt_image(mapka_rgb)\\n',\n",
       " '    sleep(8)\\n',\n",
       " '    reset_alt_image()\\n',\n",
       " '}']"
      ]
     },
     "execution_count": 23,
     "metadata": {},
     "output_type": "execute_result"
    }
   ],
   "source": [
    "lines"
   ]
  },
  {
   "cell_type": "code",
   "execution_count": null,
   "id": "28fc31f0",
   "metadata": {},
   "outputs": [],
   "source": []
  },
  {
   "cell_type": "code",
   "execution_count": 2,
   "id": "41e82176",
   "metadata": {},
   "outputs": [],
   "source": [
    "rm = pyvisa.ResourceManager()"
   ]
  },
  {
   "cell_type": "code",
   "execution_count": 3,
   "id": "c64491f0",
   "metadata": {},
   "outputs": [],
   "source": [
    "inst = rm.open_resource('USB0::0x1AB1::0x0643::DG8A220800267::INSTR')"
   ]
  },
  {
   "cell_type": "code",
   "execution_count": 4,
   "id": "361ec99a",
   "metadata": {},
   "outputs": [
    {
     "data": {
      "text/plain": [
       "'Rigol Technologies,DG812,DG8A220800267,00.02.02.00.00 \\n'"
      ]
     },
     "execution_count": 4,
     "metadata": {},
     "output_type": "execute_result"
    }
   ],
   "source": [
    "inst.query(\"*IDN?\")"
   ]
  },
  {
   "cell_type": "code",
   "execution_count": 5,
   "id": "719c8e27",
   "metadata": {},
   "outputs": [
    {
     "data": {
      "text/plain": [
       "30"
      ]
     },
     "execution_count": 5,
     "metadata": {},
     "output_type": "execute_result"
    }
   ],
   "source": [
    "inst.write(':SOUR1:APPL:SQU 2000,5,2.5,0')"
   ]
  },
  {
   "cell_type": "code",
   "execution_count": 8,
   "id": "0084366b",
   "metadata": {},
   "outputs": [],
   "source": [
    "inst.close()"
   ]
  },
  {
   "cell_type": "code",
   "execution_count": 7,
   "id": "d27dc0bd",
   "metadata": {},
   "outputs": [],
   "source": [
    "\n",
    "rm = pyvisa.ResourceManager()\n",
    "inst = rm.open_resource('USB0::0x1AB1::0x0643::DG8A220800267::INSTR')\n",
    "if inst.query(\"*IDN?\")[:18] == 'Rigol Technologies':\n",
    "    # rigol = inst\n",
    "    inst.write(':SOUR1:APPL:SQU 2000,5,2.5,0')"
   ]
  },
  {
   "cell_type": "code",
   "execution_count": null,
   "id": "35f9ca05",
   "metadata": {},
   "outputs": [],
   "source": []
  },
  {
   "cell_type": "code",
   "execution_count": null,
   "id": "f04d3c49",
   "metadata": {},
   "outputs": [],
   "source": []
  },
  {
   "cell_type": "code",
   "execution_count": 18,
   "id": "77bcd18b",
   "metadata": {},
   "outputs": [],
   "source": [
    "def replace_variables(anim_str, variables):\n",
    "    for n in range(0, len(variables)):\n",
    "        var_name = 'var%d'%n\n",
    "        anim_str = anim_str.replace(var_name, '%2.2f'%variables[n])\n",
    "    return anim_str\n",
    "\n",
    "\n",
    "def draw_parametric_animation(anim_str, posx, posy, rota, size, ctime, variables = []):\n",
    "    canvas = np.zeros((448, 800, 3), np.uint8)\n",
    "    # print('PARANIM STR:', anim_str)\n",
    "    \n",
    "    # scale parameter is from textfile, size is from brush size \n",
    "    anim_str = replace_variables(anim_str, variables)\n",
    "    for obj in anim_str.split('OBJECT')[1:]:\n",
    "        splitted = obj.splitlines()\n",
    "\n",
    "        line1 = splitted[0].split(' ')\n",
    "        typ = line1[1]\n",
    "\n",
    "        # init parameters\n",
    "        cx = 0\n",
    "        cy = 0\n",
    "        scale = 1\n",
    "\n",
    "        for line in splitted[1:]:\n",
    "            line_splt = line.split(' ')\n",
    "#             line_splt = replace_variables(line_splt, variables)\n",
    "            if eval(line_splt[0]) <= ctime:\n",
    "                if eval(line_splt[2]) >= ctime:\n",
    "                    total_time = eval(line_splt[2])-eval(line_splt[0])\n",
    "                    completness = (ctime-eval(line_splt[0]))/total_time\n",
    "                    if line_splt[3] == 'MOVE':\n",
    "                        change_x = eval(line_splt[7])-eval(line_splt[4])\n",
    "                        change_y = eval(line_splt[8])-eval(line_splt[5])\n",
    "                        cx = int(eval(line_splt[4]) + change_x*completness)\n",
    "                        cy = int(eval(line_splt[5]) + change_y*completness)\n",
    "                        cx = int(cx*size/100 + 800/2)\n",
    "                        cy = int(cy*size/100 + 448/2)\n",
    "                    if line_splt[3] == 'SCALE':\n",
    "                        change_s = eval(line_splt[6])-eval(line_splt[4])\n",
    "                        scale = eval(line_splt[4]) + change_s*completness\n",
    "\n",
    "        if line1[1] == 'rectangle':\n",
    "            stp = (int(cx-0.5*eval(line1[2])*scale*size/100), int(cy-0.5*eval(line1[3])*scale*size/100))\n",
    "            enp = (int(cx+0.5*eval(line1[2])*scale*size/100), int(cy+0.5*eval(line1[3])*scale*size/100))\n",
    "            clr = (eval(line1[4]), eval(line1[4]), eval(line1[4]))\n",
    "            canvas = cv2.rectangle(canvas, stp, enp, clr, -1)\n",
    "            \n",
    "        if line1[1] == 'ellipse':\n",
    "            axes = (int(eval(line1[2])*scale*size/100), int(eval(line1[3])*scale*size/100))\n",
    "            clr = (int(line1[5]), int(eval(line1[5])), int(eval(line1[5])))\n",
    "            canvas = cv2.ellipse(canvas, (cx, cy), axes, 0, 0, 360, clr, -1)\n",
    "\n",
    "        # now rotate\n",
    "        canvas_rot = imutils.rotate(canvas, rota)\n",
    "\n",
    "        # now offset\n",
    "        pil_img = Image.fromarray(canvas_rot)\n",
    "        pil_img2 = ImageChops.offset(pil_img, int(posy-800/2), int(posx-448/2))\n",
    "        canvas_done = np.array(pil_img2)\n",
    "\n",
    "    return canvas_done"
   ]
  },
  {
   "cell_type": "code",
   "execution_count": 19,
   "id": "7bc5c01f",
   "metadata": {},
   "outputs": [
    {
     "data": {
      "text/plain": [
       "'OBJECT ellipse 100 100 0 255\\n0.00 -> 0.10 MOVE 0 0 -> 0 0\\n0.10 -> 1.00 MOVE 0 0 -> 0 0\\n0.10 -> 1.00 SCALE 1.00 -> 1.30\\nOBJECT ellipse 100 100 0 0\\n0.00 -> 0.10 MOVE -100 0 -> -100 0\\n0.10 -> 1.00 MOVE -100 0 -> -25 0\\n0.00 -> 0.10 SCALE 0.20 -> 0.20\\n0.10 -> 1.00 SCALE 0.20 -> 1.5'"
      ]
     },
     "execution_count": 19,
     "metadata": {},
     "output_type": "execute_result"
    }
   ],
   "source": [
    "path = \"d:/Katalog 1/Projekty/Mikroskop 3.0/laser_microscope/old_soft/mikroskop1/parametric_animations/shining-moon3.anim\"\n",
    "with open(path, \"r\") as f:\n",
    "    cnt = f.read()\n",
    "\n",
    "cnt"
   ]
  },
  {
   "cell_type": "code",
   "execution_count": 31,
   "id": "99bc14f9",
   "metadata": {},
   "outputs": [],
   "source": [
    "n = 0\n",
    "inc = 0.1"
   ]
  },
  {
   "cell_type": "code",
   "execution_count": 42,
   "id": "8e9b6b47",
   "metadata": {},
   "outputs": [
    {
     "name": "stdout",
     "output_type": "stream",
     "text": [
      "1.00\n"
     ]
    },
    {
     "data": {
      "text/plain": [
       "<matplotlib.image.AxesImage at 0x291afc50690>"
      ]
     },
     "execution_count": 42,
     "metadata": {},
     "output_type": "execute_result"
    },
    {
     "data": {
      "image/png": "[encoded data removed]",
      "text/plain": [
       "<Figure size 640x480 with 1 Axes>"
      ]
     },
     "metadata": {},
     "output_type": "display_data"
    }
   ],
   "source": [
    "img = draw_parametric_animation(cnt, 200, 200, 0, 100, n)\n",
    "print(f\"{n:.2f}\")\n",
    "n += inc\n",
    "\n",
    "plt.imshow(img)"
   ]
  },
  {
   "cell_type": "code",
   "execution_count": null,
   "id": "d3e9caa3",
   "metadata": {},
   "outputs": [],
   "source": []
  },
  {
   "cell_type": "code",
   "execution_count": 3,
   "id": "1bbcc9b5",
   "metadata": {},
   "outputs": [],
   "source": [
    "def print_command(cmd, nest = 0):\n",
    "    if type(cmd) == Command:\n",
    "        print(f\"{\"   \"*nest}{cmd.get_format()}\")\n",
    "    elif type(cmd) == list:\n",
    "        for c in cmd:\n",
    "            print_command(c, nest=nest+1)"
   ]
  },
  {
   "cell_type": "code",
   "execution_count": 4,
   "id": "ff97b21f",
   "metadata": {},
   "outputs": [
    {
     "name": "stdout",
     "output_type": "stream",
     "text": [
      "   laser_on()\n",
      "   set_laser_duty(12)\n",
      "   operator(var_a, =, 12)\n",
      "      if(var_a, ==, 12)\n",
      "      set_laser_duty(5)\n",
      "   operator(var_x, =, 0)\n",
      "      loop(4)\n",
      "      laser_on()\n",
      "      wait(2)\n",
      "         if(var_a, >, 12)\n",
      "         set_laser_duty(1)\n",
      "      laser_off()\n",
      "      operator(var_x, +=, 1)\n",
      "      restart_block()\n"
     ]
    }
   ],
   "source": [
    "print_command(scr.commands)"
   ]
  },
  {
   "cell_type": "code",
   "execution_count": 12,
   "id": "c7c66407",
   "metadata": {},
   "outputs": [
    {
     "data": {
      "text/plain": [
       "[<utils.command_handler.Command at 0x29ad8a8cd70>,\n",
       " <utils.command_handler.Command at 0x29ac25daad0>,\n",
       " <utils.command_handler.Command at 0x29ac25da990>,\n",
       " [<utils.command_handler.Command at 0x29ac27c0c30>,\n",
       "  <utils.command_handler.Command at 0x29ac27a17f0>],\n",
       " <utils.command_handler.Command at 0x29ac2779040>,\n",
       " [<utils.command_handler.Command at 0x29ac25f1750>,\n",
       "  <utils.command_handler.Command at 0x29ac25677a0>,\n",
       "  <utils.command_handler.Command at 0x29ad8ad8320>,\n",
       "  [<utils.command_handler.Command at 0x29ac2798e50>,\n",
       "   <utils.command_handler.Command at 0x29ad8ab3ba0>],\n",
       "  <utils.command_handler.Command at 0x29ad89caa50>,\n",
       "  <utils.command_handler.Command at 0x29ad88f76a0>,\n",
       "  <utils.command_handler.Command at 0x29ad8a2bac0>]]"
      ]
     },
     "execution_count": 12,
     "metadata": {},
     "output_type": "execute_result"
    }
   ],
   "source": [
    "scr.commands"
   ]
  },
  {
   "cell_type": "code",
   "execution_count": null,
   "id": "3e11cd4c",
   "metadata": {},
   "outputs": [],
   "source": []
  },
  {
   "cell_type": "code",
   "execution_count": 2,
   "metadata": {},
   "outputs": [],
   "source": [
    "import os\n",
    "import time\n",
    "from tkinter import messagebox\n",
    "\n",
    "import cv2\n",
    "import numpy as np\n",
    "from utils.consts import LabJackConsts\n",
    "from utils.utils import thread_execute\n",
    "from PIL import Image, ImageTk\n",
    "\n",
    "import clr\n",
    "from ctypes import *\n",
    "from devices.TC300_COMMAND_LIB import *\n",
    "import logging\n",
    "\n",
    "\n",
    "# Add References to .NET libraries\n",
    "clr.AddReference(\"C:\\\\Program Files\\\\Thorlabs\\\\Kinesis\\\\Thorlabs.MotionControl.DeviceManagerCLI.dll\")\n",
    "clr.AddReference(\"C:\\\\Program Files\\\\Thorlabs\\\\Kinesis\\\\Thorlabs.MotionControl.GenericMotorCLI.dll\")\n",
    "clr.AddReference(\"C:\\\\Program Files\\\\Thorlabs\\\\Kinesis\\\\Thorlabs.MotionControl.Benchtop.DCServoCLI.dll.\")\n",
    "clr.AddReference(\n",
    "    \"C:\\\\Program Files\\\\Thorlabs\\\\Kinesis\\\\Thorlabs.MotionControl.IntegratedStepperMotorsCLI.dll.\"\n",
    ")\n",
    "clr.AddReference(\n",
    "    \"C:\\\\Program Files\\\\Thorlabs\\\\Kinesis\\\\Thorlabs.MotionControl.IntegratedStepperMotorsUI.dll\"\n",
    ")\n",
    "\n",
    "# I dont know how it works, ask thorlabs\n",
    "from Thorlabs.MotionControl.DeviceManagerCLI import *  # type: ignore\n",
    "from Thorlabs.MotionControl.GenericMotorCLI import *  # type: ignore\n",
    "from Thorlabs.MotionControl.Benchtop.DCServoCLI import *  # type: ignore\n",
    "from Thorlabs.MotionControl.IntegratedStepperMotorsUI import *  # type: ignore\n",
    "from Thorlabs.MotionControl.IntegratedStepperMotorsCLI import *  # type: ignore\n",
    "from System import Decimal  # Required for real units  # type: ignore"
   ]
  },
  {
   "cell_type": "code",
   "execution_count": 4,
   "id": "9faecca7",
   "metadata": {},
   "outputs": [],
   "source": [
    "SERIAL_NO = \"55520124\""
   ]
  },
  {
   "cell_type": "code",
   "execution_count": 16,
   "metadata": {},
   "outputs": [],
   "source": [
    "DeviceManagerCLI.BuildDeviceList()  # type: ignore"
   ]
  },
  {
   "cell_type": "code",
   "execution_count": 17,
   "metadata": {},
   "outputs": [],
   "source": [
    "labjack = LabJack.CreateLabJack(SERIAL_NO)"
   ]
  },
  {
   "cell_type": "code",
   "execution_count": 18,
   "metadata": {},
   "outputs": [],
   "source": [
    "labjack.Connect(SERIAL_NO)"
   ]
  },
  {
   "cell_type": "code",
   "execution_count": 19,
   "metadata": {},
   "outputs": [
    {
     "data": {
      "text/plain": [
       "<Thorlabs.MotionControl.DeviceManagerCLI.SingleDeviceInfo object at 0x0000028B58D0A400>"
      ]
     },
     "execution_count": 19,
     "metadata": {},
     "output_type": "execute_result"
    }
   ],
   "source": [
    "labjack.GetDeviceInfo()"
   ]
  },
  {
   "cell_type": "code",
   "execution_count": 20,
   "metadata": {},
   "outputs": [],
   "source": [
    "labjack.StartPolling(250)\n",
    "labjack.EnableDevice()"
   ]
  },
  {
   "cell_type": "code",
   "execution_count": 22,
   "metadata": {},
   "outputs": [
    {
     "data": {
      "text/plain": [
       "<System.Action[UInt64] object at 0x0000028B58D07F40>"
      ]
     },
     "execution_count": 22,
     "metadata": {},
     "output_type": "execute_result"
    }
   ],
   "source": [
    "labjack.LoadMotorConfiguration(SERIAL_NO)\n",
    "labjack.InitializeWaitHandler()"
   ]
  },
  {
   "cell_type": "code",
   "execution_count": 23,
   "metadata": {},
   "outputs": [
    {
     "ename": "DeviceSettingsException",
     "evalue": "Device settings not initialized\r\n   at Thorlabs.MotionControl.GenericMotorCLI.AdvancedMotor.GenericAdvancedMotorCLI.VerifyMotorSettings(Int32 functionDepth)\r\n   at Thorlabs.MotionControl.GenericMotorCLI.AdvancedMotor.GenericAdvancedMotorCLI.VerifyDeviceMovement(Int32 functionDepth, VerifyMovementFlags flags)\r\n   at Thorlabs.MotionControl.GenericMotorCLI.AdvancedMotor.GenericAdvancedMotorCLI.MoveTo(Decimal position, Action`1 callback)",
     "output_type": "error",
     "traceback": [
      "\u001b[31m---------------------------------------------------------------------------\u001b[39m",
      "\u001b[31mDeviceSettingsException\u001b[39m                   Traceback (most recent call last)",
      "\u001b[36mCell\u001b[39m\u001b[36m \u001b[39m\u001b[32mIn[23]\u001b[39m\u001b[32m, line 2\u001b[39m\n\u001b[32m      1\u001b[39m work_done = labjack.InitializeWaitHandler()\n\u001b[32m----> \u001b[39m\u001b[32m2\u001b[39m \u001b[43mlabjack\u001b[49m\u001b[43m.\u001b[49m\u001b[43mMoveTo\u001b[49m\u001b[43m(\u001b[49m\u001b[43mDecimal\u001b[49m\u001b[43m(\u001b[49m\u001b[32;43m33\u001b[39;49m\u001b[43m)\u001b[49m\u001b[43m,\u001b[49m\u001b[43m \u001b[49m\u001b[43mwork_done\u001b[49m\u001b[43m)\u001b[49m\n",
      "\u001b[31mDeviceSettingsException\u001b[39m: Device settings not initialized\r\n   at Thorlabs.MotionControl.GenericMotorCLI.AdvancedMotor.GenericAdvancedMotorCLI.VerifyMotorSettings(Int32 functionDepth)\r\n   at Thorlabs.MotionControl.GenericMotorCLI.AdvancedMotor.GenericAdvancedMotorCLI.VerifyDeviceMovement(Int32 functionDepth, VerifyMovementFlags flags)\r\n   at Thorlabs.MotionControl.GenericMotorCLI.AdvancedMotor.GenericAdvancedMotorCLI.MoveTo(Decimal position, Action`1 callback)"
     ]
    }
   ],
   "source": [
    "work_done = labjack.InitializeWaitHandler()\n",
    "labjack.MoveTo(Decimal(33), work_done)"
   ]
  },
  {
   "cell_type": "code",
   "execution_count": 15,
   "metadata": {},
   "outputs": [],
   "source": [
    "\n",
    "labjack.StopPolling()\n",
    "labjack.Disconnect()"
   ]
  },
  {
   "cell_type": "code",
   "execution_count": null,
   "metadata": {},
   "outputs": [],
   "source": []
  },
  {
   "cell_type": "code",
   "execution_count": 1,
   "metadata": {},
   "outputs": [],
   "source": [
    "# from inputs import get_gamepad\n",
    "import math\n",
    "import clr\n",
    "import subprocess\n",
    "from ctypes import *\n",
    "import time\n",
    "\n",
    "# Add References to .NET libraries\n",
    "clr.AddReference(\"C:\\\\Program Files\\\\Thorlabs\\\\Kinesis\\\\Thorlabs.MotionControl.DeviceManagerCLI.dll\")\n",
    "clr.AddReference(\"C:\\\\Program Files\\\\Thorlabs\\\\Kinesis\\\\Thorlabs.MotionControl.GenericMotorCLI.dll\")\n",
    "clr.AddReference(\"C:\\\\Program Files\\\\Thorlabs\\\\Kinesis\\\\Thorlabs.MotionControl.Benchtop.DCServoCLI.dll.\")\n",
    "clr.AddReference(\"C:\\\\Program Files\\\\Thorlabs\\\\Kinesis\\\\Thorlabs.MotionControl.IntegratedStepperMotorsCLI.dll.\")\n",
    "clr.AddReference(\"C:\\\\Program Files\\\\Thorlabs\\\\Kinesis\\\\Thorlabs.MotionControl.IntegratedStepperMotorsUI.dll\")\n",
    "\n",
    "from Thorlabs.MotionControl.DeviceManagerCLI import *\n",
    "from Thorlabs.MotionControl.GenericMotorCLI import *\n",
    "from Thorlabs.MotionControl.Benchtop.DCServoCLI import *\n",
    "from Thorlabs.MotionControl.IntegratedStepperMotorsUI import *\n",
    "from Thorlabs.MotionControl.IntegratedStepperMotorsCLI import *\n",
    "from System import Decimal  # Required for real units"
   ]
  },
  {
   "cell_type": "code",
   "execution_count": null,
   "id": "d0f3d449",
   "metadata": {},
   "outputs": [],
   "source": [
    "DeviceManagerCLI.BuildDeviceList()\n",
    "# create new device\n",
    "serial_no = \"55520124\"  # Replace this line with your device's serial number\n",
    "device = BenchtopDCServo.CreateBenchtopDCServo(serial_no)"
   ]
  },
  {
   "cell_type": "code",
   "execution_count": 3,
   "id": "f483d881",
   "metadata": {},
   "outputs": [
    {
     "data": {
      "text/plain": [
       "<Thorlabs.MotionControl.Benchtop.DCServoCLI.BenchtopDCServo object at 0x000001122BBBB100>"
      ]
     },
     "execution_count": 3,
     "metadata": {},
     "output_type": "execute_result"
    }
   ],
   "source": [
    "device"
   ]
  },
  {
   "cell_type": "code",
   "execution_count": null,
   "metadata": {},
   "outputs": [],
   "source": []
  },
  {
   "cell_type": "code",
   "execution_count": 1,
   "metadata": {},
   "outputs": [],
   "source": [
    "from pylablib.devices import Thorlabs"
   ]
  },
  {
   "cell_type": "code",
   "execution_count": 2,
   "metadata": {},
   "outputs": [
    {
     "data": {
      "text/plain": [
       "[('55520124', 'Kinesis K10CR2 Rotary Stage'),\n",
       " ('101507134', 'Integrated XY Stage'),\n",
       " ('37009479', 'APT Filter Flipper'),\n",
       " ('49499304', 'APT Labjack')]"
      ]
     },
     "execution_count": 2,
     "metadata": {},
     "output_type": "execute_result"
    }
   ],
   "source": [
    "Thorlabs.list_kinesis_devices()"
   ]
  },
  {
   "cell_type": "code",
   "execution_count": 3,
   "id": "06022e0e",
   "metadata": {},
   "outputs": [
    {
     "name": "stderr",
     "output_type": "stream",
     "text": [
      "c:\\Users\\Laser\\Documents\\new_microscope\\laser_microscope\\.venv\\Lib\\site-packages\\pylablib\\devices\\Thorlabs\\kinesis.py:1319: UserWarning: can't recognize motor model MLJ250; setting all scales to internal units\n",
      "  warnings.warn(\"can't recognize motor model {}; setting all scales to internal units\".format(self._model))\n"
     ]
    }
   ],
   "source": [
    "stage = Thorlabs.KinesisMotor(\"49499304\")"
   ]
  },
  {
   "cell_type": "code",
   "execution_count": 5,
   "id": "73febe5e",
   "metadata": {},
   "outputs": [
    {
     "data": {
      "text/plain": [
       "1228800"
      ]
     },
     "execution_count": 5,
     "metadata": {},
     "output_type": "execute_result"
    }
   ],
   "source": [
    "stage.get_position()"
   ]
  },
  {
   "cell_type": "code",
   "execution_count": 6,
   "id": "8922cac4",
   "metadata": {},
   "outputs": [],
   "source": [
    "stage.move_to(0)"
   ]
  },
  {
   "cell_type": "code",
   "execution_count": 8,
   "id": "02db2015",
   "metadata": {},
   "outputs": [
    {
     "data": {
      "text/plain": [
       "False"
      ]
     },
     "execution_count": 8,
     "metadata": {},
     "output_type": "execute_result"
    }
   ],
   "source": [
    "stage.is_moving()"
   ]
  },
  {
   "cell_type": "code",
   "execution_count": 4,
   "id": "ef57b101",
   "metadata": {},
   "outputs": [],
   "source": [
    "flipper.move_to_state(1)"
   ]
  },
  {
   "cell_type": "code",
   "execution_count": 5,
   "id": "1c2eb884",
   "metadata": {},
   "outputs": [
    {
     "data": {
      "text/plain": [
       "1"
      ]
     },
     "execution_count": 5,
     "metadata": {},
     "output_type": "execute_result"
    }
   ],
   "source": [
    "flipper.get_state()"
   ]
  },
  {
   "cell_type": "code",
   "execution_count": 23,
   "id": "517733a4",
   "metadata": {},
   "outputs": [],
   "source": [
    "stage.move_by(1000)"
   ]
  },
  {
   "cell_type": "code",
   "execution_count": 6,
   "id": "344e39db",
   "metadata": {},
   "outputs": [],
   "source": [
    "stage.move_to(100000)"
   ]
  },
  {
   "cell_type": "code",
   "execution_count": null,
   "id": "ea523794",
   "metadata": {},
   "outputs": [],
   "source": []
  },
  {
   "cell_type": "code",
   "execution_count": null,
   "id": "915aed59",
   "metadata": {},
   "outputs": [],
   "source": []
  },
  {
   "cell_type": "code",
   "execution_count": null,
   "id": "49d11726",
   "metadata": {},
   "outputs": [],
   "source": []
  },
  {
   "cell_type": "code",
   "execution_count": null,
   "id": "071ec274",
   "metadata": {},
   "outputs": [],
   "source": []
  },
  {
   "cell_type": "code",
   "execution_count": null,
   "id": "e50855dc",
   "metadata": {},
   "outputs": [],
   "source": []
  },
  {
   "cell_type": "code",
   "execution_count": null,
   "id": "004916e3",
   "metadata": {},
   "outputs": [],
   "source": []
  },
  {
   "cell_type": "code",
   "execution_count": null,
   "id": "b0e07858",
   "metadata": {},
   "outputs": [],
   "source": []
  },
  {
   "cell_type": "code",
   "execution_count": null,
   "id": "32aa6005",
   "metadata": {},
   "outputs": [],
   "source": []
  },
  {
   "cell_type": "code",
   "execution_count": null,
   "id": "4bbeccb0",
   "metadata": {},
   "outputs": [],
   "source": []
  },
  {
   "cell_type": "code",
   "execution_count": null,
   "id": "c98d14af",
   "metadata": {},
   "outputs": [],
   "source": []
  },
  {
   "cell_type": "code",
   "execution_count": null,
   "id": "08083256",
   "metadata": {},
   "outputs": [],
   "source": []
  },
  {
   "cell_type": "code",
   "execution_count": null,
   "id": "86f9f3c3",
   "metadata": {},
   "outputs": [],
   "source": []
  },
  {
   "cell_type": "code",
   "execution_count": null,
   "id": "d3615870",
   "metadata": {},
   "outputs": [],
   "source": []
  },
  {
   "cell_type": "code",
   "execution_count": null,
   "id": "5e25970d",
   "metadata": {},
   "outputs": [],
   "source": []
  }
 ],
 "metadata": {
  "kernelspec": {
   "display_name": ".venv",
   "language": "python",
   "name": "python3"
  },
  "language_info": {
   "codemirror_mode": {
    "name": "ipython",
    "version": 3
   },
   "file_extension": ".py",
   "mimetype": "text/x-python",
   "name": "python",
   "nbconvert_exporter": "python",
   "pygments_lexer": "ipython3",
   "version": "3.13.3"
  }
 },
 "nbformat": 4,
 "nbformat_minor": 5
}
