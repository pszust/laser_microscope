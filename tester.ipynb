{
 "cells": [
  {
   "cell_type": "code",
   "execution_count": 1,
   "id": "41ef79fd",
   "metadata": {},
   "outputs": [],
   "source": [
    "from utils.command_handler import ScriptParser, Command\n",
    "import numpy as np\n",
    "import cv2\n",
    "import imutils\n",
    "from PIL import Image, ImageTk, ImageFont, ImageDraw, ImageChops\n",
    "from matplotlib import pyplot as plt\n",
    "import os"
   ]
  },
  {
   "cell_type": "code",
   "execution_count": 3,
   "id": "01ce4557",
   "metadata": {},
   "outputs": [
    {
     "data": {
      "text/plain": [
       "['pixel-burn.anim', 'pixel-burn4.anim', 'shining-moon3.anim']"
      ]
     },
     "execution_count": 3,
     "metadata": {},
     "output_type": "execute_result"
    }
   ],
   "source": [
    "os.listdir(\"animations/base\")"
   ]
  },
  {
   "cell_type": "code",
   "execution_count": 18,
   "id": "77bcd18b",
   "metadata": {},
   "outputs": [],
   "source": [
    "def replace_variables(anim_str, variables):\n",
    "    for n in range(0, len(variables)):\n",
    "        var_name = 'var%d'%n\n",
    "        anim_str = anim_str.replace(var_name, '%2.2f'%variables[n])\n",
    "    return anim_str\n",
    "\n",
    "\n",
    "def draw_parametric_animation(anim_str, posx, posy, rota, size, ctime, variables = []):\n",
    "    canvas = np.zeros((448, 800, 3), np.uint8)\n",
    "    # print('PARANIM STR:', anim_str)\n",
    "    \n",
    "    # scale parameter is from textfile, size is from brush size \n",
    "    anim_str = replace_variables(anim_str, variables)\n",
    "    for obj in anim_str.split('OBJECT')[1:]:\n",
    "        splitted = obj.splitlines()\n",
    "\n",
    "        line1 = splitted[0].split(' ')\n",
    "        typ = line1[1]\n",
    "\n",
    "        # init parameters\n",
    "        cx = 0\n",
    "        cy = 0\n",
    "        scale = 1\n",
    "\n",
    "        for line in splitted[1:]:\n",
    "            line_splt = line.split(' ')\n",
    "#             line_splt = replace_variables(line_splt, variables)\n",
    "            if eval(line_splt[0]) <= ctime:\n",
    "                if eval(line_splt[2]) >= ctime:\n",
    "                    total_time = eval(line_splt[2])-eval(line_splt[0])\n",
    "                    completness = (ctime-eval(line_splt[0]))/total_time\n",
    "                    if line_splt[3] == 'MOVE':\n",
    "                        change_x = eval(line_splt[7])-eval(line_splt[4])\n",
    "                        change_y = eval(line_splt[8])-eval(line_splt[5])\n",
    "                        cx = int(eval(line_splt[4]) + change_x*completness)\n",
    "                        cy = int(eval(line_splt[5]) + change_y*completness)\n",
    "                        cx = int(cx*size/100 + 800/2)\n",
    "                        cy = int(cy*size/100 + 448/2)\n",
    "                    if line_splt[3] == 'SCALE':\n",
    "                        change_s = eval(line_splt[6])-eval(line_splt[4])\n",
    "                        scale = eval(line_splt[4]) + change_s*completness\n",
    "\n",
    "        if line1[1] == 'rectangle':\n",
    "            stp = (int(cx-0.5*eval(line1[2])*scale*size/100), int(cy-0.5*eval(line1[3])*scale*size/100))\n",
    "            enp = (int(cx+0.5*eval(line1[2])*scale*size/100), int(cy+0.5*eval(line1[3])*scale*size/100))\n",
    "            clr = (eval(line1[4]), eval(line1[4]), eval(line1[4]))\n",
    "            canvas = cv2.rectangle(canvas, stp, enp, clr, -1)\n",
    "            \n",
    "        if line1[1] == 'ellipse':\n",
    "            axes = (int(eval(line1[2])*scale*size/100), int(eval(line1[3])*scale*size/100))\n",
    "            clr = (int(line1[5]), int(eval(line1[5])), int(eval(line1[5])))\n",
    "            canvas = cv2.ellipse(canvas, (cx, cy), axes, 0, 0, 360, clr, -1)\n",
    "\n",
    "        # now rotate\n",
    "        canvas_rot = imutils.rotate(canvas, rota)\n",
    "\n",
    "        # now offset\n",
    "        pil_img = Image.fromarray(canvas_rot)\n",
    "        pil_img2 = ImageChops.offset(pil_img, int(posy-800/2), int(posx-448/2))\n",
    "        canvas_done = np.array(pil_img2)\n",
    "\n",
    "    return canvas_done"
   ]
  },
  {
   "cell_type": "code",
   "execution_count": 19,
   "id": "7bc5c01f",
   "metadata": {},
   "outputs": [
    {
     "data": {
      "text/plain": [
       "'OBJECT ellipse 100 100 0 255\\n0.00 -> 0.10 MOVE 0 0 -> 0 0\\n0.10 -> 1.00 MOVE 0 0 -> 0 0\\n0.10 -> 1.00 SCALE 1.00 -> 1.30\\nOBJECT ellipse 100 100 0 0\\n0.00 -> 0.10 MOVE -100 0 -> -100 0\\n0.10 -> 1.00 MOVE -100 0 -> -25 0\\n0.00 -> 0.10 SCALE 0.20 -> 0.20\\n0.10 -> 1.00 SCALE 0.20 -> 1.5'"
      ]
     },
     "execution_count": 19,
     "metadata": {},
     "output_type": "execute_result"
    }
   ],
   "source": [
    "path = \"d:/Katalog 1/Projekty/Mikroskop 3.0/laser_microscope/old_soft/mikroskop1/parametric_animations/shining-moon3.anim\"\n",
    "with open(path, \"r\") as f:\n",
    "    cnt = f.read()\n",
    "\n",
    "cnt"
   ]
  },
  {
   "cell_type": "code",
   "execution_count": 31,
   "id": "99bc14f9",
   "metadata": {},
   "outputs": [],
   "source": [
    "n = 0\n",
    "inc = 0.1"
   ]
  },
  {
   "cell_type": "code",
   "execution_count": 42,
   "id": "8e9b6b47",
   "metadata": {},
   "outputs": [
    {
     "name": "stdout",
     "output_type": "stream",
     "text": [
      "1.00\n"
     ]
    },
    {
     "data": {
      "text/plain": [
       "<matplotlib.image.AxesImage at 0x291afc50690>"
      ]
     },
     "execution_count": 42,
     "metadata": {},
     "output_type": "execute_result"
    },
    {
     "data": {
      "image/png": "[encoded data removed]",
      "text/plain": [
       "<Figure size 640x480 with 1 Axes>"
      ]
     },
     "metadata": {},
     "output_type": "display_data"
    }
   ],
   "source": [
    "img = draw_parametric_animation(cnt, 200, 200, 0, 100, n)\n",
    "print(f\"{n:.2f}\")\n",
    "n += inc\n",
    "\n",
    "plt.imshow(img)"
   ]
  },
  {
   "cell_type": "code",
   "execution_count": null,
   "id": "d3e9caa3",
   "metadata": {},
   "outputs": [],
   "source": []
  },
  {
   "cell_type": "code",
   "execution_count": 3,
   "id": "1bbcc9b5",
   "metadata": {},
   "outputs": [],
   "source": [
    "def print_command(cmd, nest = 0):\n",
    "    if type(cmd) == Command:\n",
    "        print(f\"{\"   \"*nest}{cmd.get_format()}\")\n",
    "    elif type(cmd) == list:\n",
    "        for c in cmd:\n",
    "            print_command(c, nest=nest+1)"
   ]
  },
  {
   "cell_type": "code",
   "execution_count": 4,
   "id": "ff97b21f",
   "metadata": {},
   "outputs": [
    {
     "name": "stdout",
     "output_type": "stream",
     "text": [
      "   laser_on()\n",
      "   set_laser_duty(12)\n",
      "   operator(var_a, =, 12)\n",
      "      if(var_a, ==, 12)\n",
      "      set_laser_duty(5)\n",
      "   operator(var_x, =, 0)\n",
      "      loop(4)\n",
      "      laser_on()\n",
      "      wait(2)\n",
      "         if(var_a, >, 12)\n",
      "         set_laser_duty(1)\n",
      "      laser_off()\n",
      "      operator(var_x, +=, 1)\n",
      "      restart_block()\n"
     ]
    }
   ],
   "source": [
    "print_command(scr.commands)"
   ]
  },
  {
   "cell_type": "code",
   "execution_count": 12,
   "id": "c7c66407",
   "metadata": {},
   "outputs": [
    {
     "data": {
      "text/plain": [
       "[<utils.command_handler.Command at 0x29ad8a8cd70>,\n",
       " <utils.command_handler.Command at 0x29ac25daad0>,\n",
       " <utils.command_handler.Command at 0x29ac25da990>,\n",
       " [<utils.command_handler.Command at 0x29ac27c0c30>,\n",
       "  <utils.command_handler.Command at 0x29ac27a17f0>],\n",
       " <utils.command_handler.Command at 0x29ac2779040>,\n",
       " [<utils.command_handler.Command at 0x29ac25f1750>,\n",
       "  <utils.command_handler.Command at 0x29ac25677a0>,\n",
       "  <utils.command_handler.Command at 0x29ad8ad8320>,\n",
       "  [<utils.command_handler.Command at 0x29ac2798e50>,\n",
       "   <utils.command_handler.Command at 0x29ad8ab3ba0>],\n",
       "  <utils.command_handler.Command at 0x29ad89caa50>,\n",
       "  <utils.command_handler.Command at 0x29ad88f76a0>,\n",
       "  <utils.command_handler.Command at 0x29ad8a2bac0>]]"
      ]
     },
     "execution_count": 12,
     "metadata": {},
     "output_type": "execute_result"
    }
   ],
   "source": [
    "scr.commands"
   ]
  },
  {
   "cell_type": "code",
   "execution_count": null,
   "id": "517733a4",
   "metadata": {},
   "outputs": [],
   "source": []
  }
 ],
 "metadata": {
  "kernelspec": {
   "display_name": ".venv",
   "language": "python",
   "name": "python3"
  },
  "language_info": {
   "codemirror_mode": {
    "name": "ipython",
    "version": 3
   },
   "file_extension": ".py",
   "mimetype": "text/x-python",
   "name": "python",
   "nbconvert_exporter": "python",
   "pygments_lexer": "ipython3",
   "version": "3.13.2"
  }
 },
 "nbformat": 4,
 "nbformat_minor": 5
}
